{
 "cells": [
  {
   "cell_type": "code",
   "execution_count": 1,
   "metadata": {
    "ExecuteTime": {
     "end_time": "2023-12-06T18:49:19.041622900Z",
     "start_time": "2023-12-06T18:49:17.859739700Z"
    }
   },
   "outputs": [],
   "source": [
    "DATASET_FOLDER = 'dataset'\n",
    "\n",
    "import os\n",
    "import sys\n",
    "import numpy as np\n",
    "import pandas as pd\n",
    "import matplotlib.pyplot as plt\n",
    "\n",
    "# Autoreload\n",
    "%load_ext autoreload\n"
   ]
  },
  {
   "cell_type": "code",
   "execution_count": 2,
   "metadata": {
    "ExecuteTime": {
     "end_time": "2023-12-06T18:49:28.581079500Z",
     "start_time": "2023-12-06T18:49:28.568660400Z"
    }
   },
   "outputs": [],
   "source": [
    "# read dataset train \n",
    "def read_dataset_train(verbose=False):\n",
    "    dataset = os.path.join(DATASET_FOLDER, 'train.txt')\n",
    "    # read dataset as a text file and each line as a training example\n",
    "    dataset = pd.read_csv(dataset, sep='\\t', header=None).squeeze('columns')\n",
    "    \n",
    "    if verbose:\n",
    "        print('dataset shape: ', dataset.shape)\n",
    "        print('first 5 examples: ')\n",
    "        print(dataset[:5])\n",
    "    \n",
    "    return dataset\n",
    "\n",
    "# read_dataset_train(True);\n",
    "\n",
    "\n",
    "# def clean_text(text):\n",
    "    # remove all numbers and punctuation an leave only arabic letters\n",
    "    \n",
    "\n",
    "\n",
    "\n"
   ]
  },
  {
   "cell_type": "code",
   "execution_count": null,
   "metadata": {},
   "outputs": [],
   "source": [
    "\n",
    "\n"
   ]
  },
  {
   "cell_type": "code",
   "execution_count": 3,
   "metadata": {},
   "outputs": [
    {
     "name": "stdout",
     "output_type": "stream",
     "text": [
      "9\n",
      "ت 1578\n",
      "َ 1614\n",
      "غ 1594\n",
      "ْ 1618\n",
      "ت 1578\n",
      "َ 1614\n",
      "ر 1585\n",
      "ّ 1617\n",
      "َ 1614\n",
      "--------------------\n",
      "يّيلعبُُُ\n"
     ]
    }
   ],
   "source": [
    "text = 'تَغْتَرَّ'\n",
    "print(len(text))\n",
    "\n",
    "# shadda and other diacritics are single characters\n",
    "for i in range(len(text)):\n",
    "    print(text[i], ord(text[i]))\n",
    "    \n",
    "print('--------------------')\n",
    "\n",
    "print(\"يّيلعبُُُ\")\n"
   ]
  },
  {
   "cell_type": "code",
   "execution_count": 4,
   "metadata": {},
   "outputs": [
    {
     "name": "stdout",
     "output_type": "stream",
     "text": [
      "{'ّ', '3', ' ', '*', '«', 'ُ', 'ِ', ')', '\"', '؟', '7', '5', '8', '(', '2', ',', '؛', '~', \"'\", ':', '-', '\\u200f', '9', '»', 'ْ', '[', 'ٍ', '`', 'ً', 'َ', '6', '!', ']', 'ٌ', '{', '1', '،', '0', '/', ';', '}', '4', '.', '–'}\n"
     ]
    }
   ],
   "source": [
    "# geet all the tashkeel in the text \n",
    "from constants import ARABIC_LETTERS \n",
    "AllBad = set()\n",
    "for text in read_dataset_train():\n",
    "    for c in text:\n",
    "        if c not in ARABIC_LETTERS:\n",
    "            AllBad.add(c)\n",
    "            \n",
    "print(AllBad)"
   ]
  },
  {
   "cell_type": "code",
   "execution_count": 9,
   "metadata": {},
   "outputs": [
    {
     "name": "stdout",
     "output_type": "stream",
     "text": [
      "ّ 3   * « ُ ِ ) \" ؟ 7 5 8 ( 2 , ؛ ~ ' : - ‏ 9 » ْ [ ٍ ` ً َ 6 ! ] ٌ { 1 ، 0 / ; } 4 . –\n",
      "ّ ُ ِ ‏ ْ ٍ ً َ ٌ \n"
     ]
    }
   ],
   "source": [
    "from regex import P\n",
    "from constants.arabic import HARAKAT\n",
    "from constants import PUNCTUATIONS\n",
    "from constants.arabic import ARABIC_NUMBERS\n",
    "\n",
    "import re\n",
    "def clean_text(text):\n",
    "    # delete all numbers and punctuation\n",
    "    # TODO: consider keeping some punctuation in the future as they may be useful for our analysis\n",
    "    text = re.sub(r'[0-9]', '', text)\n",
    "    text = re.sub(r'[' + \"\".join(ARABIC_NUMBERS) + ']', '', text)\n",
    "    text = re.sub(r'[' + \"\".join(PUNCTUATIONS) + ']', '', text)\n",
    "    text = re.sub(r'\\s+', ' ', text)\n",
    "    \n",
    "    \n",
    "    \n",
    "    return text\n",
    "\n",
    "# text = '0110ز.+_@#$.زتَغْتَرَّ2//،،312)()( جدج)'\n",
    "# print(clean_text(text))\n",
    "\n",
    "# dataset = read_dataset_train()\n",
    "\n",
    "# for t in dataset[:5]:\n",
    "#     print(t)\n",
    "#     print(clean_text(t))\n",
    "#     print('---------------------')\n",
    "#     break\n",
    "\n",
    "non_letters = ' '.join(list(AllBad))\n",
    "print(non_letters)\n",
    "cleaned = clean_text(non_letters)\n",
    "print(cleaned) # only tashkeel  and spaces left -> for now \n",
    "# print(PUNCTUATIONS)"
   ]
  }
 ],
 "metadata": {
  "kernelspec": {
   "display_name": "base",
   "language": "python",
   "name": "python3"
  },
  "language_info": {
   "codemirror_mode": {
    "name": "ipython",
    "version": 3
   },
   "file_extension": ".py",
   "mimetype": "text/x-python",
   "name": "python",
   "nbconvert_exporter": "python",
   "pygments_lexer": "ipython3",
   "version": "3.9.13"
  }
 },
 "nbformat": 4,
 "nbformat_minor": 2
}
