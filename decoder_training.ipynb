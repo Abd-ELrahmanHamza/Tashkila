{
 "cells": [
  {
   "cell_type": "code",
   "execution_count": 1,
   "metadata": {},
   "outputs": [],
   "source": [
    "# to reload modules automatically without having to restart the kernel\n",
    "%load_ext autoreload\n",
    "%autoreload 2\n",
    "%reload_ext autoreload\n",
    "import torch\n",
    "import torch.optim as optim\n",
    "import torch.utils.data as data\n",
    "from letters_dataset import LettersDataset\n",
    "import torch.nn as nn\n",
    "from train_collections import *\n",
    "import numpy as np\n",
    "from tqdm import tqdm\n",
    "import lightning as pl"
   ]
  },
  {
   "cell_type": "code",
   "execution_count": 2,
   "metadata": {},
   "outputs": [],
   "source": [
    "# model and training parameters\n",
    "batch_size = 64\n",
    "device = torch.device(\"cuda\" if torch.cuda.is_available() else \"cpu\")\n",
    "n_epochs = 1"
   ]
  },
  {
   "cell_type": "code",
   "execution_count": 3,
   "metadata": {},
   "outputs": [
    {
     "name": "stdout",
     "output_type": "stream",
     "text": [
      "w = 415\n",
      "n_chars:  41\n",
      "n_harakat:  15\n"
     ]
    }
   ],
   "source": [
    "# load train data\n",
    "dataset = LettersDataset(device=device, input_data_file=\"./clean_out/X.csv\", output_data_file=\"./clean_out/Y.csv\")\n",
    "loader = data.DataLoader(dataset, shuffle=True, batch_size=batch_size)\n",
    "n_chars = dataset.get_input_vocab_size()\n",
    "n_harakat = dataset.get_output_vocab_size()\n",
    "print(\"n_chars: \", n_chars)\n",
    "print(\"n_harakat: \", n_harakat)"
   ]
  },
  {
   "cell_type": "code",
   "execution_count": 4,
   "metadata": {},
   "outputs": [],
   "source": [
    "import torch # torch will allow us to create tensors.\n",
    "import torch.nn as nn # torch.nn allows us to create a neural network.\n",
    "from torch.optim import Adam # optim contains many optimizers. This time we're using Adam\n",
    "from torchmetrics import Accuracy\n",
    "\n",
    "\n",
    "# batch size, sequence length, input size\n",
    "\n",
    "class Decoder(pl.LightningModule):\n",
    "    def __init__(self, input_size, embedding_size, hidden_size, output_size):\n",
    "        super().__init__()\n",
    "        self.input_size = input_size\n",
    "        self.hidden_size = hidden_size\n",
    "        self.output_size = output_size\n",
    "        self.embedding_size = embedding_size\n",
    "        self.embedding = nn.Embedding(input_size, embedding_size)\n",
    "        self.rnn = nn.LSTM(embedding_size, hidden_size, batch_first=True)\n",
    "        self.fc = nn.Linear(hidden_size, output_size)\n",
    "        self.loss = nn.CrossEntropyLoss()\n",
    "        print(\"from decoder init\")\n",
    "        print(\"adham\")\n",
    "\n",
    "    def forward(self, x, h0, c0):\n",
    "        # print(\"from decoder forward\")\n",
    "        # print(x.shape)\n",
    "        embeddings = self.embedding(x).cuda()\n",
    "        # print(\"from decoder forward after embedding\")\n",
    "        # print(embeddings.shape)\n",
    "        h, (hn, cn) = self.rnn(embeddings, (h0, c0))\n",
    "        # h is the output of the RNN\n",
    "        # hn is the hidden state of the last timestep\n",
    "        # cn is the cell state of the last timestep\n",
    "        out = self.fc(h)\n",
    "        return out\n",
    "\n",
    "    def training_step(self, batch, batch_idx):\n",
    "        x, y = batch\n",
    "        batch_size = x.shape[0]\n",
    "        # print(\"from decoder training step\")\n",
    "        # print(x.shape)\n",
    "        h0 = torch.zeros(1, batch_size, self.hidden_size).cuda()\n",
    "        c0 = torch.zeros(1, batch_size, self.hidden_size).cuda()\n",
    "        y_hat = self.forward(x, h0, c0).cuda()\n",
    "        # y_hat is the output of the model of shape (batch_size, sequence_length, output_size)\n",
    "        # y is the target of shape (batch_size, sequence_length)\n",
    "        # y contains the index of the correct word in the vocabulary\n",
    "        loss = self.loss(y_hat.view(-1, self.output_size), y.view(-1)).cuda()\n",
    "        self.log('train_loss', loss)\n",
    "        return loss\n",
    "\n",
    "    def configure_optimizers(self):\n",
    "        return Adam(self.parameters())\n",
    "    \n",
    "    def validation_step(self, batch, batch_idx):\n",
    "        x, y = batch\n",
    "        batch_size = x.shape[0]\n",
    "        h0 = torch.zeros(1, batch_size, self.hidden_size).cuda()\n",
    "        c0 = torch.zeros(1, batch_size, self.hidden_size).cuda()\n",
    "        y_hat = self.forward(x, h0, c0).cuda()\n",
    "        loss = self.loss(y_hat.view(-1, self.output_size), y.view(-1)).cuda()\n",
    "        accuracy = Accuracy().cuda()\n",
    "        acc = accuracy(y_hat.view(-1, self.output_size), y.view(-1)).cuda()\n",
    "        self.log('val_acc', acc,on_epoch=True)\n",
    "        return loss\n",
    "    \n",
    "    def test_step(self, batch, batch_idx):\n",
    "        x, y = batch\n",
    "        batch_size = x.shape[0]\n",
    "        h0 = torch.zeros(1, batch_size, self.hidden_size).cuda()\n",
    "        c0 = torch.zeros(1, batch_size, self.hidden_size).cuda()\n",
    "        y_hat = self.forward(x, h0, c0).cuda()\n",
    "        loss = self.loss(y_hat.view(-1, self.output_size), y.view(-1)).cuda()\n",
    "        accuracy = Accuracy().cuda()\n",
    "        acc = accuracy(y_hat.view(-1, self.output_size), y.view(-1)).cuda()\n",
    "        self.log('test_acc', acc,on_epoch=True)\n",
    "        return loss\n"
   ]
  },
  {
   "cell_type": "code",
   "execution_count": 6,
   "metadata": {},
   "outputs": [
    {
     "name": "stdout",
     "output_type": "stream",
     "text": [
      "from decoder init\n",
      "adham\n"
     ]
    }
   ],
   "source": [
    "model = Decoder(input_size=n_chars, output_size=n_harakat, embedding_size=512, hidden_size=256).to(device)\n",
    "optimizer = optim.Adam(model.parameters(), lr=0.001)\n",
    "loss_fn = nn.CrossEntropyLoss(ignore_index=dataset.char_encoder.get_pad_id())"
   ]
  },
  {
   "cell_type": "code",
   "execution_count": 7,
   "metadata": {},
   "outputs": [
    {
     "name": "stderr",
     "output_type": "stream",
     "text": [
      "GPU available: True (cuda), used: True\n",
      "TPU available: False, using: 0 TPU cores\n",
      "IPU available: False, using: 0 IPUs\n",
      "HPU available: False, using: 0 HPUs\n",
      "c:\\Users\\adham ali\\AppData\\Local\\Programs\\Python\\Python310\\lib\\site-packages\\lightning\\pytorch\\trainer\\configuration_validator.py:74: You defined a `validation_step` but have no `val_dataloader`. Skipping val loop.\n",
      "Missing logger folder: d:\\CMP\\CMP7\\NLP\\tasleem\\Tashkila\\lightning_logs\n",
      "LOCAL_RANK: 0 - CUDA_VISIBLE_DEVICES: [0]\n",
      "\n",
      "  | Name      | Type             | Params\n",
      "-----------------------------------------------\n",
      "0 | embedding | Embedding        | 21.0 K\n",
      "1 | rnn       | LSTM             | 788 K \n",
      "2 | fc        | Linear           | 3.9 K \n",
      "3 | loss      | CrossEntropyLoss | 0     \n",
      "-----------------------------------------------\n",
      "813 K     Trainable params\n",
      "0         Non-trainable params\n",
      "813 K     Total params\n",
      "3.253     Total estimated model params size (MB)\n",
      "c:\\Users\\adham ali\\AppData\\Local\\Programs\\Python\\Python310\\lib\\site-packages\\lightning\\pytorch\\trainer\\connectors\\data_connector.py:441: The 'train_dataloader' does not have many workers which may be a bottleneck. Consider increasing the value of the `num_workers` argument` to `num_workers=11` in the `DataLoader` to improve performance.\n"
     ]
    },
    {
     "data": {
      "application/vnd.jupyter.widget-view+json": {
       "model_id": "124a06d59c3741f687d9b14591a955af",
       "version_major": 2,
       "version_minor": 0
      },
      "text/plain": [
       "Training: |          | 0/? [00:00<?, ?it/s]"
      ]
     },
     "metadata": {},
     "output_type": "display_data"
    },
    {
     "name": "stderr",
     "output_type": "stream",
     "text": [
      "`Trainer.fit` stopped: `max_epochs=10` reached.\n"
     ]
    }
   ],
   "source": [
    "trainer = pl.Trainer(max_epochs=10, accelerator=\"auto\", devices=\"auto\",log_every_n_steps=10)\n",
    "# trainer = pl.Trainer(max_epochs=3)\n",
    "trainer.fit(model, train_dataloaders=loader)"
   ]
  },
  {
   "cell_type": "code",
   "execution_count": 8,
   "metadata": {},
   "outputs": [
    {
     "name": "stdout",
     "output_type": "stream",
     "text": [
      "{'train_loss': tensor(0.0746)}\n"
     ]
    }
   ],
   "source": [
    "# print training loss\n",
    "print(trainer.logged_metrics)"
   ]
  },
  {
   "cell_type": "code",
   "execution_count": 9,
   "metadata": {},
   "outputs": [],
   "source": [
    "# save the model \n",
    "torch.save(model.state_dict(), \"./models/decoder.pth\")"
   ]
  },
  {
   "cell_type": "code",
   "execution_count": null,
   "metadata": {},
   "outputs": [],
   "source": []
  }
 ],
 "metadata": {
  "kernelspec": {
   "display_name": "Python 3",
   "language": "python",
   "name": "python3"
  },
  "language_info": {
   "codemirror_mode": {
    "name": "ipython",
    "version": 3
   },
   "file_extension": ".py",
   "mimetype": "text/x-python",
   "name": "python",
   "nbconvert_exporter": "python",
   "pygments_lexer": "ipython3",
   "version": "3.10.7"
  }
 },
 "nbformat": 4,
 "nbformat_minor": 2
}
