{
 "cells": [
  {
   "cell_type": "code",
   "execution_count": 1,
   "metadata": {},
   "outputs": [],
   "source": [
    "from letters_dataset import LettersDataset\n",
    "from words_dataset import WordsDataset\n",
    "from torch.utils.data import Dataset, DataLoader\n",
    "import torch\n",
    "import torch.nn as nn\n",
    "import torch.optim as optim\n",
    "import numpy as np\n",
    "\n",
    "import random\n",
    "import math\n",
    "import time\n",
    "from train_collections import *"
   ]
  },
  {
   "cell_type": "code",
   "execution_count": 2,
   "metadata": {},
   "outputs": [],
   "source": [
    "device = torch.device('cuda' if torch.cuda.is_available() else 'cpu')"
   ]
  },
  {
   "cell_type": "code",
   "execution_count": 3,
   "metadata": {},
   "outputs": [],
   "source": [
    "class Encoder(nn.Module):\n",
    "    def __init__(self, input_dim, embedding_dim=128, hidden_dim=256, num_layers=1, dropout_probability=0.1):\n",
    "        super().__init__()\n",
    "        # TODO: replace with one hot encoding\n",
    "        self.embedding = nn.Embedding(input_dim, embedding_dim)\n",
    "        self.lstm_layer = nn.LSTM(\n",
    "            embedding_dim, hidden_dim, num_layers, dropout=dropout_probability, batch_first=True)\n",
    "\n",
    "        # Dropout layer to prevent over fitting (regularization)\n",
    "        # it randomly zeroes some of the elements of the input tensor with probability p using samples from a Bernoulli distribution.\n",
    "        self.dropout = nn.Dropout(dropout_probability)\n",
    "\n",
    "    def forward(self, inputs):\n",
    "        # inputs = [inputs len, batch size]\n",
    "        embeddings = self.dropout(self.embedding(inputs))\n",
    "\n",
    "        # embedded = [inputs len, batch size, emb dim]\n",
    "        outputs, (hidden, cell) = self.lstm_layer(embeddings)\n",
    "\n",
    "        # outputs = [inputs len, batch size, hid dim * n directions]\n",
    "        # hidden = [n layers * n directions, batch size, hid dim]\n",
    "        # cell = [n layers * n directions, batch size, hid dim]\n",
    "        # outputs are always from the top hidden layer\n",
    "        return hidden, cell"
   ]
  },
  {
   "cell_type": "code",
   "execution_count": 4,
   "metadata": {},
   "outputs": [],
   "source": [
    "class Decoder(nn.Module):\n",
    "    def __init__(self, input_size, embedding_size, hidden_size, output_size, device='cuda'):\n",
    "        super().__init__()\n",
    "        self.embedding = nn.Embedding(input_size, embedding_size)\n",
    "        self.lstm = nn.LSTM(embedding_size, hidden_size, batch_first=True)\n",
    "        self.fc = nn.Linear(hidden_size, output_size)\n",
    "\n",
    "    def forward(self, x, h0, c0):\n",
    "        # print(\"from decoder forward\")\n",
    "        # print(x.shape)\n",
    "        embeddings = self.embedding(x)\n",
    "        # print(\"from decoder forward after embedding\")\n",
    "        # print(embeddings.shape)\n",
    "        outs, _ = self.lstm(embeddings, (h0, c0))\n",
    "        # h is the output of the RNN\n",
    "        # hn is the hidden state of the last timestep\n",
    "        # cn is the cell state of the last timestep\n",
    "        scores = self.fc(outs)\n",
    "        return scores"
   ]
  },
  {
   "cell_type": "code",
   "execution_count": 5,
   "metadata": {},
   "outputs": [],
   "source": [
    "class Seq2Seq(nn.Module):\n",
    "    def __init__(self, encoder, decoder):\n",
    "        super().__init__()\n",
    "        self.encoder = encoder\n",
    "        self.decoder = decoder\n",
    "\n",
    "    def forward(self, encoder_inputs, decoder_inputs):\n",
    "        encoder_hidden, encoder_cell = self.encoder(encoder_inputs)\n",
    "        # insert start token at the beginning of the decoder inputs\n",
    "        decoder_output = self.decoder(\n",
    "            decoder_inputs, encoder_hidden, encoder_cell)\n",
    "        return decoder_output"
   ]
  },
  {
   "cell_type": "code",
   "execution_count": 6,
   "metadata": {},
   "outputs": [
    {
     "name": "stdout",
     "output_type": "stream",
     "text": [
      "w = 495\n"
     ]
    }
   ],
   "source": [
    "from regex import P\n",
    "\n",
    "\n",
    "batch_size = 64\n",
    "dataset = LettersDataset(\n",
    "    \"./clean_out/X.csv\", \"./clean_out/Y.csv\", device=device, special_tokens=[PAD_TOKEN,UNK_TOKEN,START_TOKEN,END_TOKEN])\n",
    "loader = DataLoader(dataset, shuffle=True, batch_size=batch_size)"
   ]
  },
  {
   "cell_type": "code",
   "execution_count": 7,
   "metadata": {},
   "outputs": [],
   "source": [
    "n_chars = dataset.get_input_vocab_size()\n",
    "n_harakat = dataset.get_output_vocab_size()\n",
    "# encoder_dim_vocab = #tokens\n",
    "device = torch.device(\"cuda\" if torch.cuda.is_available() else \"cpu\")"
   ]
  },
  {
   "cell_type": "code",
   "execution_count": 8,
   "metadata": {},
   "outputs": [],
   "source": [
    "hidden_dim = 128\n",
    "num_batches = len(loader)\n",
    "n_epochs = 10"
   ]
  },
  {
   "cell_type": "code",
   "execution_count": 11,
   "metadata": {},
   "outputs": [
    {
     "name": "stdout",
     "output_type": "stream",
     "text": [
      "Seq2Seq(\n",
      "  (encoder): Encoder(\n",
      "    (embedding): Embedding(64, 128)\n",
      "    (lstm_layer): LSTM(128, 128, batch_first=True)\n",
      "    (dropout): Dropout(p=0, inplace=False)\n",
      "  )\n",
      "  (decoder): Decoder(\n",
      "    (embedding): Embedding(19, 128)\n",
      "    (lstm): LSTM(128, 128, batch_first=True)\n",
      "    (fc): Linear(in_features=128, out_features=19, bias=True)\n",
      "  )\n",
      ")\n"
     ]
    }
   ],
   "source": [
    "enc_model = Encoder(\n",
    "    n_chars, hidden_dim=hidden_dim, num_layers=1, dropout_probability=0)\n",
    "\n",
    "dec_model = Decoder(n_harakat, embedding_size=128,\n",
    "                    hidden_size=128, output_size=n_harakat, device=device.type)\n",
    "\n",
    "\n",
    "model = Seq2Seq(encoder=enc_model, decoder=dec_model).to(device)\n",
    "print(model)\n",
    "optimizer = optim.Adam(model.parameters(), lr=1e-3)\n",
    "loss_fn = nn.CrossEntropyLoss()"
   ]
  },
  {
   "cell_type": "code",
   "execution_count": 12,
   "metadata": {},
   "outputs": [
    {
     "name": "stdout",
     "output_type": "stream",
     "text": [
      "Number of batches: 2590\n"
     ]
    },
    {
     "name": "stdout",
     "output_type": "stream",
     "text": [
      "Epoch 0, batch 0: Loss = 2.9877\n",
      "Epoch 0, batch 100: Loss = 0.2287\n",
      "Epoch 0, batch 200: Loss = 0.1569\n",
      "Epoch 0, batch 300: Loss = 0.2097\n",
      "Epoch 0, batch 400: Loss = 0.1721\n",
      "Epoch 0, batch 500: Loss = 0.2070\n",
      "Epoch 0, batch 600: Loss = 0.1966\n",
      "Epoch 0, batch 700: Loss = 0.2254\n",
      "Epoch 0, batch 800: Loss = 0.1565\n",
      "Epoch 0, batch 900: Loss = 0.1386\n",
      "Epoch 0, batch 1000: Loss = 0.1160\n",
      "Epoch 0, batch 1100: Loss = 0.1680\n",
      "Epoch 0, batch 1200: Loss = 0.1701\n",
      "Epoch 0, batch 1300: Loss = 0.2105\n",
      "Epoch 0, batch 1400: Loss = 0.1905\n",
      "Epoch 0, batch 1500: Loss = 0.1376\n",
      "Epoch 0, batch 1600: Loss = 0.2238\n",
      "Epoch 0, batch 1700: Loss = 0.1395\n",
      "Epoch 0, batch 1800: Loss = 0.1621\n",
      "Epoch 0, batch 1900: Loss = 0.1435\n",
      "Epoch 0, batch 2000: Loss = 0.1305\n",
      "Epoch 0, batch 2100: Loss = 0.1589\n",
      "Epoch 0, batch 2200: Loss = 0.1449\n",
      "Epoch 0, batch 2300: Loss = 0.1458\n",
      "Epoch 0, batch 2400: Loss = 0.1502\n",
      "Epoch 0, batch 2500: Loss = 0.1277\n",
      "Epoch 0: Cross-entropy: 410.3089\n",
      "Epoch 1, batch 0: Loss = 0.2354\n",
      "Epoch 1, batch 100: Loss = 0.1273\n",
      "Epoch 1, batch 200: Loss = 0.1568\n",
      "Epoch 1, batch 300: Loss = 0.1578\n",
      "Epoch 1, batch 400: Loss = 0.1904\n",
      "Epoch 1, batch 500: Loss = 0.1082\n",
      "Epoch 1, batch 600: Loss = 0.1972\n",
      "Epoch 1, batch 700: Loss = 0.1827\n",
      "Epoch 1, batch 800: Loss = 0.1733\n",
      "Epoch 1, batch 900: Loss = 0.1312\n",
      "Epoch 1, batch 1000: Loss = 0.1458\n",
      "Epoch 1, batch 1100: Loss = 0.1828\n",
      "Epoch 1, batch 1200: Loss = 0.1767\n",
      "Epoch 1, batch 1300: Loss = 0.1553\n",
      "Epoch 1, batch 1400: Loss = 0.0884\n",
      "Epoch 1, batch 1500: Loss = 0.1408\n",
      "Epoch 1, batch 1600: Loss = 0.1833\n",
      "Epoch 1, batch 1700: Loss = 0.1525\n",
      "Epoch 1, batch 1800: Loss = 0.1573\n",
      "Epoch 1, batch 1900: Loss = 0.1224\n",
      "Epoch 1, batch 2000: Loss = 0.1727\n",
      "Epoch 1, batch 2100: Loss = 0.1004\n",
      "Epoch 1, batch 2200: Loss = 0.1241\n",
      "Epoch 1, batch 2300: Loss = 0.1592\n",
      "Epoch 1, batch 2400: Loss = 0.1649\n",
      "Epoch 1, batch 2500: Loss = 0.1708\n",
      "Epoch 1: Cross-entropy: 379.7581\n",
      "Epoch 2, batch 0: Loss = 0.1338\n",
      "Epoch 2, batch 100: Loss = 0.1547\n",
      "Epoch 2, batch 200: Loss = 0.1765\n",
      "Epoch 2, batch 300: Loss = 0.1869\n",
      "Epoch 2, batch 400: Loss = 0.1052\n",
      "Epoch 2, batch 500: Loss = 0.1747\n",
      "Epoch 2, batch 600: Loss = 0.1801\n",
      "Epoch 2, batch 700: Loss = 0.1100\n",
      "Epoch 2, batch 800: Loss = 0.1385\n",
      "Epoch 2, batch 900: Loss = 0.1326\n",
      "Epoch 2, batch 1000: Loss = 0.1215\n",
      "Epoch 2, batch 1100: Loss = 0.1016\n",
      "Epoch 2, batch 1200: Loss = 0.1527\n",
      "Epoch 2, batch 1300: Loss = 0.1483\n",
      "Epoch 2, batch 1400: Loss = 0.0829\n",
      "Epoch 2, batch 1500: Loss = 0.1253\n",
      "Epoch 2, batch 1600: Loss = 0.2031\n",
      "Epoch 2, batch 1700: Loss = 0.1347\n",
      "Epoch 2, batch 1800: Loss = 0.1018\n",
      "Epoch 2, batch 1900: Loss = 0.1054\n",
      "Epoch 2, batch 2000: Loss = 0.1727\n",
      "Epoch 2, batch 2100: Loss = 0.1537\n",
      "Epoch 2, batch 2200: Loss = 0.1040\n",
      "Epoch 2, batch 2300: Loss = 0.1363\n",
      "Epoch 2, batch 2400: Loss = 0.1428\n",
      "Epoch 2, batch 2500: Loss = 0.1473\n"
     ]
    }
   ],
   "source": [
    "print(\"Number of batches:\", num_batches)\n",
    "best_model = None\n",
    "best_loss = np.inf\n",
    "for epoch in range(n_epochs):\n",
    "    model.train()\n",
    "    for i, (X_batch, Y_batch) in enumerate(loader):\n",
    "        y_pred = ''\n",
    "        curr_batch_size = X_batch.shape[0]\n",
    "        # print(Y_batch.shape)\n",
    "        # make 2d tensor of start tokens of size batch_size\n",
    "        start_token_tensor = torch.tensor([[dataset.harakat_encoder.get_id_by_token(START_TOKEN)]] * curr_batch_size).to(device)\n",
    "        # print(start_token_tensor.shape)\n",
    "        # decoder input is the same as the target but shifted by one and with start token at the beginning\n",
    "        decoder_input = torch.cat(\n",
    "            (start_token_tensor, Y_batch[:, :-1]), dim=1)\n",
    "        y_pred = model(X_batch, decoder_input)\n",
    "        y_pred = y_pred.transpose(1, 2)\n",
    "        # print(y_pred.shape)\n",
    "        # print(y_batch.shape)\n",
    "        loss = loss_fn(y_pred, Y_batch)\n",
    "        optimizer.zero_grad()\n",
    "        loss.backward()\n",
    "        optimizer.step()\n",
    "        if i % 100 == 0:\n",
    "            print(\"Epoch %d, batch %d: Loss = %.4f\" % (epoch, i, loss))\n",
    "\n",
    "    # Validation\n",
    "    model.eval()\n",
    "    loss = 0\n",
    "    with torch.no_grad():\n",
    "        for (X, Y) in loader:\n",
    "            curr_batch_size = X.shape[0]\n",
    "             # decoder input is the same as the target but shifted by one and with start token at the beginning\n",
    "            start_token_tensor = torch.tensor([[dataset.harakat_encoder.get_id_by_token(START_TOKEN)]] * curr_batch_size).to(device)\n",
    "            decoder_input = torch.cat(\n",
    "            (start_token_tensor, Y[:, :-1]), dim=1)\n",
    "            y_pred = model(X, decoder_input)\n",
    "            y_pred = y_pred.transpose(1, 2)\n",
    "\n",
    "            loss += loss_fn(y_pred, Y)\n",
    "        if loss < best_loss:\n",
    "            best_loss = loss\n",
    "            best_model = model.state_dict()\n",
    "        print(\"Epoch %d: Cross-entropy: %.4f\" % (epoch, loss))"
   ]
  },
  {
   "cell_type": "code",
   "execution_count": null,
   "metadata": {},
   "outputs": [],
   "source": [
    "val_dataset = LettersDataset(\n",
    "    'clean_out/X_val.csv', 'clean_out/y_val.csv', device=device, special_tokens=[PAD_TOKEN,UNK_TOKEN,START_TOKEN,END_TOKEN])\n",
    "\n",
    "val_loader = DataLoader(val_dataset, shuffle=True, batch_size=batch_size)\n",
    "\n",
    "\n",
    "\n",
    "model.eval()\n",
    "correct = 0\n",
    "total = 0\n",
    "\n",
    "with torch.no_grad():\n",
    "    for (X, Y) in val_loader:\n",
    "        curr_batch_size = X.shape[0]\n",
    "        start_token_tensor = torch.tensor([[dataset.harakat_encoder.get_id_by_token(START_TOKEN)]] * curr_batch_size).to(device)\n",
    "        decoder_input = torch.cat(\n",
    "            (start_token_tensor, Y[:, :-1]), dim=1)\n",
    "        is_padding = (X == val_dataset.char_encoder.get_pad_id())\n",
    "        y_pred = model(X, decoder_input)\n",
    "        y_pred = y_pred.transpose(1, 2)\n",
    "        _, predicted = torch.max(y_pred.data, 1)\n",
    "        # Count only non-padding characters\n",
    "        total += torch.sum(~is_padding).item()\n",
    "\n",
    "        # Count correct predictions\n",
    "        correct += torch.sum((predicted == Y) & (~is_padding)).item()\n",
    "print(\"Accuracy: %.2f%%\" % (100 * correct / total))"
   ]
  },
  {
   "cell_type": "code",
   "execution_count": null,
   "metadata": {},
   "outputs": [],
   "source": []
  }
 ],
 "metadata": {
  "kernelspec": {
   "display_name": "Python 3",
   "language": "python",
   "name": "python3"
  },
  "language_info": {
   "codemirror_mode": {
    "name": "ipython",
    "version": 3
   },
   "file_extension": ".py",
   "mimetype": "text/x-python",
   "name": "python",
   "nbconvert_exporter": "python",
   "pygments_lexer": "ipython3",
   "version": "3.10.7"
  }
 },
 "nbformat": 4,
 "nbformat_minor": 2
}
