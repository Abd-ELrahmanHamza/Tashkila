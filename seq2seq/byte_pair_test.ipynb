{
 "cells": [
  {
   "cell_type": "code",
   "execution_count": 1,
   "id": "initial_id",
   "metadata": {
    "collapsed": true,
    "ExecuteTime": {
     "end_time": "2023-12-11T00:27:15.765012900Z",
     "start_time": "2023-12-11T00:27:13.233010700Z"
    }
   },
   "outputs": [],
   "source": [
    "from byte_pair_encoding import Byte_Pair_Encoding\n",
    "from letters_dataset import read_data, find_width_99_percentile"
   ]
  },
  {
   "cell_type": "code",
   "execution_count": 2,
   "outputs": [
    {
     "name": "stdout",
     "output_type": "stream",
     "text": [
      "Data read successfully.\n",
      "Number of lines: 50000\n",
      "X: ['ق,و,ل,ه, ,أ,و, ,ق,ط,ع, ,ا,ل,أ,و,ل, ,ي,د,ه, ,إ,ل,خ, ,ق,ا,ل, ,ا,ل,ز,ر,ك,ش,ي']\n",
      "Y: ['َ,ْ,ُ,ُ,$,َ,ْ,$,َ,َ,َ,$,$,ْ,َ,َّ,ُ,$,َ,َ,ُ,$,$,َ,ْ,$,َ,$,َ,$,$,$,َّ,ْ,َ,ِ,ُّ']\n",
      "max_sentence_length =  1\n"
     ]
    }
   ],
   "source": [
    "input, expected_output = read_data(\"./clean_out/X.csv\", \"./clean_out/Y.csv\", True)\n",
    "\n",
    "# Find the max sentence length\n",
    "max_sentence_length = find_width_99_percentile(input)\n",
    "print(\"max_sentence_length = \", max_sentence_length)"
   ],
   "metadata": {
    "collapsed": false,
    "ExecuteTime": {
     "end_time": "2023-12-11T00:27:16.465121300Z",
     "start_time": "2023-12-11T00:27:15.768360100Z"
    }
   },
   "id": "d094656c9e769f14"
  },
  {
   "cell_type": "code",
   "execution_count": 3,
   "outputs": [],
   "source": [
    "bpe = Byte_Pair_Encoding(max_sentence_length)\n",
    "bpe.train(\"./clean_out/merged.txt\")"
   ],
   "metadata": {
    "collapsed": false,
    "ExecuteTime": {
     "end_time": "2023-12-11T00:27:41.343087800Z",
     "start_time": "2023-12-11T00:27:16.460119900Z"
    }
   },
   "id": "d892d6895a8faa25"
  },
  {
   "cell_type": "code",
   "execution_count": 4,
   "outputs": [
    {
     "name": "stdout",
     "output_type": "stream",
     "text": [
      "['قوله أو ', 'قطع', ' الأول', ' يد', 'ه إلخ', ' قال', ' الزركشي']\n"
     ]
    }
   ],
   "source": [
    "char_input = input.copy()\n",
    "tokenized_word_input = input.copy()\n",
    "for i in range(len(input)):\n",
    "    tokenized_word_input[i] = bpe.encode(''.join(tokenized_word_input[i]))\n",
    "print(tokenized_word_input[0])\n"
   ],
   "metadata": {
    "collapsed": false,
    "ExecuteTime": {
     "end_time": "2023-12-11T00:27:48.983408800Z",
     "start_time": "2023-12-11T00:27:41.348609900Z"
    }
   },
   "id": "b6fb47def7d1ea63"
  }
 ],
 "metadata": {
  "kernelspec": {
   "display_name": "Python 3",
   "language": "python",
   "name": "python3"
  },
  "language_info": {
   "codemirror_mode": {
    "name": "ipython",
    "version": 2
   },
   "file_extension": ".py",
   "mimetype": "text/x-python",
   "name": "python",
   "nbconvert_exporter": "python",
   "pygments_lexer": "ipython2",
   "version": "2.7.6"
  }
 },
 "nbformat": 4,
 "nbformat_minor": 5
}
