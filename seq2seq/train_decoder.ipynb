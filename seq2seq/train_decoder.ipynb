{
 "cells": [
  {
   "cell_type": "code",
   "execution_count": 1,
   "metadata": {
    "ExecuteTime": {
     "end_time": "2023-12-11T01:34:10.262645600Z",
     "start_time": "2023-12-11T01:33:54.198279400Z"
    }
   },
   "outputs": [
    {
     "name": "stdout",
     "output_type": "stream",
     "text": [
      "torch.Size([16636, 650, 95])\n",
      "torch.Size([16636, 650])\n",
      "hello\n"
     ]
    }
   ],
   "source": [
    "from decoder import Decoder\n",
    "from character_loader import data_loader\n",
    "import lightning as L\n",
    "print(\"hello\")"
   ]
  },
  {
   "cell_type": "code",
   "execution_count": 1,
   "metadata": {
    "ExecuteTime": {
     "end_time": "2023-12-11T01:34:46.209642800Z",
     "start_time": "2023-12-11T01:34:13.515660500Z"
    }
   },
   "outputs": [
    {
     "ename": "NameError",
     "evalue": "name 'Decoder' is not defined",
     "output_type": "error",
     "traceback": [
      "\u001b[1;31m---------------------------------------------------------------------------\u001b[0m",
      "\u001b[1;31mNameError\u001b[0m                                 Traceback (most recent call last)",
      "Cell \u001b[1;32mIn [1], line 1\u001b[0m\n\u001b[1;32m----> 1\u001b[0m model \u001b[38;5;241m=\u001b[39m \u001b[43mDecoder\u001b[49m(\u001b[38;5;241m95\u001b[39m, \u001b[38;5;241m6\u001b[39m, \u001b[38;5;241m3\u001b[39m, \u001b[38;5;241m15\u001b[39m)\n\u001b[0;32m      3\u001b[0m trainer \u001b[38;5;241m=\u001b[39m L\u001b[38;5;241m.\u001b[39mTrainer(max_epochs\u001b[38;5;241m=\u001b[39m\u001b[38;5;241m34\u001b[39m)\n\u001b[0;32m      5\u001b[0m trainer\u001b[38;5;241m.\u001b[39mfit(model, data_loader)\n",
      "\u001b[1;31mNameError\u001b[0m: name 'Decoder' is not defined"
     ]
    }
   ],
   "source": [
    "model = Decoder(95, 6, 3, 15)\n",
    "\n",
    "trainer = L.Trainer(max_epochs=34)\n",
    "\n",
    "trainer.fit(model, data_loader)"
   ]
  },
  {
   "cell_type": "code",
   "execution_count": 9,
   "metadata": {
    "ExecuteTime": {
     "end_time": "2023-12-11T01:22:27.382503700Z",
     "start_time": "2023-12-11T01:22:27.298719600Z"
    },
    "collapsed": false
   },
   "outputs": [],
   "source": [
    "import torch"
   ]
  },
  {
   "cell_type": "code",
   "execution_count": 13,
   "metadata": {
    "ExecuteTime": {
     "end_time": "2023-12-11T01:23:24.752779800Z",
     "start_time": "2023-12-11T01:23:24.704060600Z"
    },
    "collapsed": false
   },
   "outputs": [],
   "source": [
    "torch.cuda.empty_cache()"
   ]
  },
  {
   "cell_type": "code",
   "execution_count": null,
   "metadata": {
    "collapsed": false
   },
   "outputs": [],
   "source": []
  }
 ],
 "metadata": {
  "kernelspec": {
   "display_name": "Python 3",
   "language": "python",
   "name": "python3"
  },
  "language_info": {
   "codemirror_mode": {
    "name": "ipython",
    "version": 3
   },
   "file_extension": ".py",
   "mimetype": "text/x-python",
   "name": "python",
   "nbconvert_exporter": "python",
   "pygments_lexer": "ipython3",
   "version": "3.10.7"
  }
 },
 "nbformat": 4,
 "nbformat_minor": 2
}
