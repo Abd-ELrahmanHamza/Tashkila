{
 "cells": [
  {
   "cell_type": "code",
   "execution_count": 11,
   "metadata": {},
   "outputs": [
    {
     "name": "stdout",
     "output_type": "stream",
     "text": [
      "{'َ': 0, 'ً': 1, 'ُ': 2, 'ٌ': 3, 'ِ': 4, 'ٍ': 5, 'ْ': 6, 'ّ': 7, 'َّ': 8, 'ًّ': 9, 'ُّ': 10, 'ٌّ': 11, 'ِّ': 12, 'ٍّ': 13, '': 14}\n",
      "-----------------------------\n",
      "{'ٌ', 'ِ', 'ّ', 'ُ', 'َ', 'ٍ', 'ْ', 'ً'}\n",
      "-----------------------------\n",
      "{'ن', 'ى', 'ك', 'ب', 'س', 'م', 'ف', 'ح', 'خ', 'ه', 'ا', 'ل', 'ط', 'ء', 'د', 'ث', 'آ', 'ض', 'ج', 'إ', 'ز', 'ي', 'و', 'ظ', 'ة', 'ذ', 'أ', 'ر', 'ش', 'غ', 'ت', 'ق', 'ع', 'ؤ', 'ئ', 'ص'}\n",
      "36\n",
      "<class 'set'>\n",
      "['ا', 'ب', 'ت', 'ث', 'ج', 'ح', 'خ', 'د', 'ذ', 'ر', 'ز', 'س', 'ش', 'ص', 'ض', 'ط', 'ظ', 'ع', 'غ', 'ف', 'ق', 'ك', 'ل', 'م', 'ن', 'ه', 'و', 'ي', 'ى', 'ة', 'آ', 'أ', 'إ', 'ء', 'ؤ', 'ئ']\n",
      "36\n"
     ]
    }
   ],
   "source": [
    "import numpy as np\n",
    "import matplotlib.pyplot as plt\n",
    "import pickle\n",
    "from constants import *\n",
    "\n",
    "# read the pickle file and print the data\n",
    "def read_pickle_file(filename):\n",
    "    with open(filename, 'rb') as f:\n",
    "        data = pickle.load(f)\n",
    "    print(data)\n",
    "    return data\n",
    "\n",
    "har = read_pickle_file('./Delivery/diacritic2id.pickle')\n",
    "print('-----------------------------')\n",
    "read_pickle_file('./Delivery/diacritics.pickle')\n",
    "print('-----------------------------')\n",
    "lettes = read_pickle_file('./Delivery/arabic_letters.pickle')\n",
    "\n",
    "print(len(lettes))\n",
    "print(type(lettes))\n",
    "print(ARABIC_LETTERS)\n",
    "print(len(ARABIC_LETTERS))\n",
    "print\n"
   ]
  }
 ],
 "metadata": {
  "kernelspec": {
   "display_name": "base",
   "language": "python",
   "name": "python3"
  },
  "language_info": {
   "codemirror_mode": {
    "name": "ipython",
    "version": 3
   },
   "file_extension": ".py",
   "mimetype": "text/x-python",
   "name": "python",
   "nbconvert_exporter": "python",
   "pygments_lexer": "ipython3",
   "version": "3.9.13"
  }
 },
 "nbformat": 4,
 "nbformat_minor": 2
}
