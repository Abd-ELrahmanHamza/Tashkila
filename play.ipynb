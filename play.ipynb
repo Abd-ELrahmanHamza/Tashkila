{
 "cells": [
  {
   "cell_type": "code",
   "execution_count": 16,
   "id": "initial_id",
   "metadata": {
    "collapsed": true,
    "ExecuteTime": {
     "end_time": "2024-01-01T18:55:27.371771100Z",
     "start_time": "2024-01-01T18:55:27.355162100Z"
    }
   },
   "outputs": [
    {
     "name": "stdout",
     "output_type": "stream",
     "text": [
      "قَوْلُهُ : ( وَبَحَثَ الرَّافِعِيُّ صِحَّتَهَا ) وَإِنْ قَصَدَ تَمْلِيكَ الْمَسْجِدِ وَهُوَ الْمُعْتَمَدُ ، وَعُلِمَ مِنْ تَعْلِيلِهِ بِأَنَّ( 9 / 482 )\n",
      "قَوْلُهُ :  وَبَحَثَ الرَّافِعِيُّ صِحَّتَهَا  وَإِنْ قَصَدَ تَمْلِيكَ الْمَسْجِدِ وَهُوَ الْمُعْتَمَدُ ، وَعُلِمَ مِنْ تَعْلِيلِهِ بِأَنَّ 9 / 482 \n"
     ]
    }
   ],
   "source": [
    "print(\n",
    "    \"قَوْلُهُ : ( وَبَحَثَ الرَّافِعِيُّ صِحَّتَهَا ) وَإِنْ قَصَدَ تَمْلِيكَ الْمَسْجِدِ وَهُوَ الْمُعْتَمَدُ ، وَعُلِمَ مِنْ تَعْلِيلِهِ بِأَنَّ( 9 / 482 )\")\n",
    "s = \"قَوْلُهُ : ( وَبَحَثَ الرَّافِعِيُّ صِحَّتَهَا ) وَإِنْ قَصَدَ تَمْلِيكَ الْمَسْجِدِ وَهُوَ الْمُعْتَمَدُ ، وَعُلِمَ مِنْ تَعْلِيلِهِ بِأَنَّ( 9 / 482 )\"\n",
    "\n",
    "for i in s:\n",
    "    if i in [\"(\", \")\"]:\n",
    "        s = s.replace(i, \"\")\n",
    "print(s)\n"
   ]
  },
  {
   "cell_type": "code",
   "execution_count": 21,
   "outputs": [
    {
     "name": "stdout",
     "output_type": "stream",
     "text": [
      "قَوْلُهُ : ( وَبَحَثَ الرَّافِعِيُّ صِحَّتَهَا ) وَإِنْ قَصَدَ تَمْلِيكَ الْمَسْجِدِ وَهُوَ الْمُعْتَمَدُ ، وَعُلِمَ مِنْ تَعْلِيلِهِ بِأَنَّ( 9 / 482 )\n",
      "قَوْلُهُ : ( وَبَحَثَ الرَّافِعِيُّ صِحَّتَهَا ) وَإِنْ قَصَدَ تَمْلِيكَ الْمَسْجِدِ وَهُوَ الْمُعْتَمَدُ ، وَعُلِمَ مِنْ تَعْلِيلِهِ بِأَنَّ( 9 / 482 )\n"
     ]
    }
   ],
   "source": [
    "import re\n",
    "s = \"قَوْلُهُ : ( وَبَحَثَ الرَّافِعِيُّ صِحَّتَهَا ) وَإِنْ قَصَدَ تَمْلِيكَ الْمَسْجِدِ وَهُوَ الْمُعْتَمَدُ ، وَعُلِمَ مِنْ تَعْلِيلِهِ بِأَنَّ( 9 / 482 )\"\n",
    "s_new = re.sub(r'[,،;!~\"*\\d(){}[]/\\'«»`-–(\\u200f)]','',s)\n",
    "print(s)\n",
    "print(s_new)"
   ],
   "metadata": {
    "collapsed": false,
    "ExecuteTime": {
     "end_time": "2024-01-01T18:55:56.382108600Z",
     "start_time": "2024-01-01T18:55:56.352790200Z"
    }
   },
   "id": "f1149cd48ea1c"
  },
  {
   "cell_type": "code",
   "execution_count": 51,
   "outputs": [
    {
     "name": "stdout",
     "output_type": "stream",
     "text": [
      "{'َ': 0, 'ً': 1, 'ُ': 2, 'ٌ': 3, 'ِ': 4, 'ٍ': 5, 'ْ': 6, 'ّ': 7, 'َّ': 8, 'ًّ': 9, 'ُّ': 10, 'ٌّ': 11, 'ِّ': 12, 'ٍّ': 13, '': 14}\n"
     ]
    }
   ],
   "source": [
    "from train_collections import harakat2id\n",
    "print(harakat2id)"
   ],
   "metadata": {
    "collapsed": false,
    "ExecuteTime": {
     "end_time": "2024-01-01T19:14:48.992541400Z",
     "start_time": "2024-01-01T19:14:48.741049900Z"
    }
   },
   "id": "5f048fb8b28f8953"
  }
 ],
 "metadata": {
  "kernelspec": {
   "display_name": "Python 3",
   "language": "python",
   "name": "python3"
  },
  "language_info": {
   "codemirror_mode": {
    "name": "ipython",
    "version": 2
   },
   "file_extension": ".py",
   "mimetype": "text/x-python",
   "name": "python",
   "nbconvert_exporter": "python",
   "pygments_lexer": "ipython2",
   "version": "2.7.6"
  }
 },
 "nbformat": 4,
 "nbformat_minor": 5
}
