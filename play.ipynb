{
 "cells": [
  {
   "cell_type": "code",
   "execution_count": 1,
   "metadata": {},
   "outputs": [
    {
     "name": "stdout",
     "output_type": "stream",
     "text": [
      "-----------------------------\n",
      "-----------------------------\n",
      "{'َ': 0, 'ً': 1, 'ُ': 2, 'ٌ': 3, 'ِ': 4, 'ٍ': 5, 'ْ': 6, 'ّ': 7, 'َّ': 8, 'ًّ': 9, 'ُّ': 10, 'ٌّ': 11, 'ِّ': 12, 'ٍّ': 13, '': 14}\n",
      "بَ 0\n",
      "بً 1\n",
      "بُ 2\n",
      "بٌ 3\n",
      "بِ 4\n",
      "بٍ 5\n",
      "بْ 6\n",
      "بّ 7\n",
      "بَّ 8\n",
      "بًّ 9\n",
      "بُّ 10\n",
      "بٌّ 11\n",
      "بِّ 12\n",
      "بٍّ 13\n",
      "ب 14\n"
     ]
    }
   ],
   "source": [
    "import numpy as np\n",
    "import matplotlib.pyplot as plt\n",
    "import pickle\n",
    "from constants import *\n",
    "from train_collections import *\n",
    "# read the pickle file and print the data\n",
    "def read_pickle_file(filename):\n",
    "    with open(filename, 'rb') as f:\n",
    "        data = pickle.load(f)\n",
    "    # print(data)\n",
    "    return data\n",
    "\n",
    "harakat = read_pickle_file('./Delivery/diacritic2id.pickle')\n",
    "print('-----------------------------')\n",
    "read_pickle_file('./Delivery/diacritics.pickle')\n",
    "print('-----------------------------')\n",
    "lettes = read_pickle_file('./Delivery/arabic_letters.pickle')\n",
    "\n",
    "# print(len(lettes))\n",
    "# print(type(lettes))\n",
    "# print(ARABIC_LETTERS)\n",
    "# print(len(ARABIC_LETTERS))\n",
    "print(harakat2id)\n",
    "for h,id in harakat2id.items():\n",
    "    print(\"ب\"+h,id)\n",
    "\n"
   ]
  },
  {
   "cell_type": "code",
   "execution_count": 6,
   "metadata": {},
   "outputs": [
    {
     "data": {
      "text/plain": [
       "['BB', 'RR', 'B', 'B']"
      ]
     },
     "execution_count": 6,
     "metadata": {},
     "output_type": "execute_result"
    }
   ],
   "source": [
    "import re\n",
    "\n",
    "text = \"BBARRCBAB\"\n",
    "re.split(r'[AC]', text)"
   ]
  }
 ],
 "metadata": {
  "kernelspec": {
   "display_name": "base",
   "language": "python",
   "name": "python3"
  },
  "language_info": {
   "codemirror_mode": {
    "name": "ipython",
    "version": 3
   },
   "file_extension": ".py",
   "mimetype": "text/x-python",
   "name": "python",
   "nbconvert_exporter": "python",
   "pygments_lexer": "ipython3",
   "version": "3.9.13"
  }
 },
 "nbformat": 4,
 "nbformat_minor": 2
}
