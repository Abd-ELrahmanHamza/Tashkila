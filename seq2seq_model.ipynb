{
 "cells": [
  {
   "cell_type": "code",
   "execution_count": 1,
   "metadata": {},
   "outputs": [],
   "source": [
    "%load_ext autoreload\n",
    "%autoreload 2\n",
    "\n",
    "import torch\n",
    "import torch.optim as optim\n",
    "import torch.utils.data as data\n",
    "from torch.utils.data import Dataset, DataLoader\n",
    "from letters_dataset import LettersDataset\n",
    "import torch.nn as nn\n",
    "from train_collections import *\n",
    "import numpy as np\n",
    "from tqdm import tqdm\n",
    "device = torch.device(\"cuda\" if torch.cuda.is_available() else \"cpu\")\n",
    "from models.cbhg import CBHGModel\n",
    "\n",
    "# autoreload notebook"
   ]
  },
  {
   "cell_type": "code",
   "execution_count": null,
   "metadata": {},
   "outputs": [],
   "source": []
  },
  {
   "cell_type": "code",
   "execution_count": 2,
   "metadata": {},
   "outputs": [],
   "source": [
    "embedding_dim = 32\n",
    "n_epochs = 5\n",
    "n_hidden = 128\n",
    "batch_size = 64"
   ]
  },
  {
   "cell_type": "code",
   "execution_count": null,
   "metadata": {},
   "outputs": [],
   "source": []
  },
  {
   "cell_type": "code",
   "execution_count": 3,
   "metadata": {},
   "outputs": [
    {
     "name": "stdout",
     "output_type": "stream",
     "text": [
      "w = 415\n"
     ]
    }
   ],
   "source": [
    "\n",
    "\n",
    "dataset = LettersDataset(device=device)\n",
    "loader = data.DataLoader(dataset, shuffle=True, batch_size=batch_size)\n",
    "\n",
    "# load val data\n",
    "# da = LettersDataset('clean_out/X_val.csv', 'clean_out/y_val.csv')"
   ]
  },
  {
   "cell_type": "code",
   "execution_count": 13,
   "metadata": {},
   "outputs": [
    {
     "data": {
      "text/plain": [
       "15"
      ]
     },
     "execution_count": 13,
     "metadata": {},
     "output_type": "execute_result"
    }
   ],
   "source": [
    "n_chars = dataset.get_input_vocab_size()\n",
    "n_harakat = dataset.get_output_vocab_size()\n",
    "n_harakat"
   ]
  },
  {
   "cell_type": "code",
   "execution_count": 12,
   "metadata": {},
   "outputs": [],
   "source": [
    "def get_cbhg():\n",
    "    model = CBHGModel(\n",
    "        embedding_dim=embedding_dim,\n",
    "        inp_vocab_size= n_chars,\n",
    "        targ_vocab_size= n_harakat,\n",
    "\n",
    "    )\n",
    "\n",
    "    return model\n",
    "#model = BaseLineModel(n_chars, n_harakat,embedding_dim).to(device)\n",
    "model = get_cbhg().to(device)\n"
   ]
  },
  {
   "cell_type": "code",
   "execution_count": 14,
   "metadata": {},
   "outputs": [
    {
     "name": "stdout",
     "output_type": "stream",
     "text": [
      "Number of batches: 3150\n"
     ]
    },
    {
     "name": "stderr",
     "output_type": "stream",
     "text": [
      "1it [00:18, 18.60s/it]"
     ]
    },
    {
     "name": "stdout",
     "output_type": "stream",
     "text": [
      "Epoch 0, batch 0: Loss = 2.8767\n"
     ]
    },
    {
     "name": "stderr",
     "output_type": "stream",
     "text": [
      "101it [32:09, 19.17s/it]"
     ]
    },
    {
     "name": "stdout",
     "output_type": "stream",
     "text": [
      "Epoch 0, batch 100: Loss = 0.1521\n"
     ]
    },
    {
     "name": "stderr",
     "output_type": "stream",
     "text": [
      "201it [1:04:26, 17.82s/it]"
     ]
    },
    {
     "name": "stdout",
     "output_type": "stream",
     "text": [
      "Epoch 0, batch 200: Loss = 0.0826\n"
     ]
    },
    {
     "name": "stderr",
     "output_type": "stream",
     "text": [
      "262it [1:24:09, 19.27s/it]\n"
     ]
    },
    {
     "ename": "KeyboardInterrupt",
     "evalue": "",
     "output_type": "error",
     "traceback": [
      "\u001b[1;31m---------------------------------------------------------------------------\u001b[0m",
      "\u001b[1;31mKeyboardInterrupt\u001b[0m                         Traceback (most recent call last)",
      "\u001b[1;32m~\\AppData\\Local\\Temp\\ipykernel_55892\\1330243951.py\u001b[0m in \u001b[0;36m<module>\u001b[1;34m\u001b[0m\n\u001b[0;32m     18\u001b[0m         \u001b[0mloss\u001b[0m \u001b[1;33m=\u001b[0m \u001b[0mloss_fn\u001b[0m\u001b[1;33m(\u001b[0m\u001b[0my_pred\u001b[0m\u001b[1;33m,\u001b[0m \u001b[0my_batch\u001b[0m\u001b[1;33m)\u001b[0m\u001b[1;33m\u001b[0m\u001b[1;33m\u001b[0m\u001b[0m\n\u001b[0;32m     19\u001b[0m         \u001b[0moptimizer\u001b[0m\u001b[1;33m.\u001b[0m\u001b[0mzero_grad\u001b[0m\u001b[1;33m(\u001b[0m\u001b[1;33m)\u001b[0m\u001b[1;33m\u001b[0m\u001b[1;33m\u001b[0m\u001b[0m\n\u001b[1;32m---> 20\u001b[1;33m         \u001b[0mloss\u001b[0m\u001b[1;33m.\u001b[0m\u001b[0mbackward\u001b[0m\u001b[1;33m(\u001b[0m\u001b[1;33m)\u001b[0m\u001b[1;33m\u001b[0m\u001b[1;33m\u001b[0m\u001b[0m\n\u001b[0m\u001b[0;32m     21\u001b[0m         \u001b[0moptimizer\u001b[0m\u001b[1;33m.\u001b[0m\u001b[0mstep\u001b[0m\u001b[1;33m(\u001b[0m\u001b[1;33m)\u001b[0m\u001b[1;33m\u001b[0m\u001b[1;33m\u001b[0m\u001b[0m\n\u001b[0;32m     22\u001b[0m         \u001b[1;32mif\u001b[0m \u001b[0mi\u001b[0m \u001b[1;33m%\u001b[0m \u001b[1;36m100\u001b[0m \u001b[1;33m==\u001b[0m \u001b[1;36m0\u001b[0m\u001b[1;33m:\u001b[0m\u001b[1;33m\u001b[0m\u001b[1;33m\u001b[0m\u001b[0m\n",
      "\u001b[1;32mc:\\Users\\aatta\\anaconda3\\lib\\site-packages\\torch\\_tensor.py\u001b[0m in \u001b[0;36mbackward\u001b[1;34m(self, gradient, retain_graph, create_graph, inputs)\u001b[0m\n\u001b[0;32m    485\u001b[0m                 \u001b[0minputs\u001b[0m\u001b[1;33m=\u001b[0m\u001b[0minputs\u001b[0m\u001b[1;33m,\u001b[0m\u001b[1;33m\u001b[0m\u001b[1;33m\u001b[0m\u001b[0m\n\u001b[0;32m    486\u001b[0m             )\n\u001b[1;32m--> 487\u001b[1;33m         torch.autograd.backward(\n\u001b[0m\u001b[0;32m    488\u001b[0m             \u001b[0mself\u001b[0m\u001b[1;33m,\u001b[0m \u001b[0mgradient\u001b[0m\u001b[1;33m,\u001b[0m \u001b[0mretain_graph\u001b[0m\u001b[1;33m,\u001b[0m \u001b[0mcreate_graph\u001b[0m\u001b[1;33m,\u001b[0m \u001b[0minputs\u001b[0m\u001b[1;33m=\u001b[0m\u001b[0minputs\u001b[0m\u001b[1;33m\u001b[0m\u001b[1;33m\u001b[0m\u001b[0m\n\u001b[0;32m    489\u001b[0m         )\n",
      "\u001b[1;32mc:\\Users\\aatta\\anaconda3\\lib\\site-packages\\torch\\autograd\\__init__.py\u001b[0m in \u001b[0;36mbackward\u001b[1;34m(tensors, grad_tensors, retain_graph, create_graph, grad_variables, inputs)\u001b[0m\n\u001b[0;32m    198\u001b[0m     \u001b[1;31m# some Python versions print out the first line of a multi-line function\u001b[0m\u001b[1;33m\u001b[0m\u001b[1;33m\u001b[0m\u001b[0m\n\u001b[0;32m    199\u001b[0m     \u001b[1;31m# calls in the traceback and some print out the last line\u001b[0m\u001b[1;33m\u001b[0m\u001b[1;33m\u001b[0m\u001b[0m\n\u001b[1;32m--> 200\u001b[1;33m     Variable._execution_engine.run_backward(  # Calls into the C++ engine to run the backward pass\n\u001b[0m\u001b[0;32m    201\u001b[0m         \u001b[0mtensors\u001b[0m\u001b[1;33m,\u001b[0m \u001b[0mgrad_tensors_\u001b[0m\u001b[1;33m,\u001b[0m \u001b[0mretain_graph\u001b[0m\u001b[1;33m,\u001b[0m \u001b[0mcreate_graph\u001b[0m\u001b[1;33m,\u001b[0m \u001b[0minputs\u001b[0m\u001b[1;33m,\u001b[0m\u001b[1;33m\u001b[0m\u001b[1;33m\u001b[0m\u001b[0m\n\u001b[0;32m    202\u001b[0m         allow_unreachable=True, accumulate_grad=True)  # Calls into the C++ engine to run the backward pass\n",
      "\u001b[1;31mKeyboardInterrupt\u001b[0m: "
     ]
    }
   ],
   "source": [
    "\n",
    "\n",
    "\n",
    "optimizer = optim.Adam(model.parameters())\n",
    "loss_fn = nn.CrossEntropyLoss(ignore_index=dataset.char_encoder.get_pad_id())\n",
    "num_batches = len(loader)\n",
    "print(\"Number of batches:\", num_batches)\n",
    "best_model = None\n",
    "best_loss = np.inf\n",
    "for epoch in range(n_epochs):\n",
    "    model.train()\n",
    "    for i, (X_batch,y_batch) in tqdm(enumerate(loader)):\n",
    "        y_pred = ''\n",
    "        # y_pred = model(X_batch)['diacritics']\n",
    "        y_pred = model(X_batch)\n",
    "        # we transpose because the loss function expects the second dimension to be the classes\n",
    "        # y_pred is now (batch_size, n_classes, seq_len)\n",
    "        y_pred = y_pred.transpose(1, 2) \n",
    "        # print(y_pred.shape)\n",
    "        # print(y_batch.shape)\n",
    "        loss = loss_fn(y_pred, y_batch)\n",
    "        optimizer.zero_grad()\n",
    "        loss.backward()\n",
    "        optimizer.step()\n",
    "        if i % 100 == 0:\n",
    "            print(\"Epoch %d, batch %d: Loss = %.4f\" % (epoch, i, loss))\n",
    "        \n",
    "    # Validation\n",
    "    model.eval()\n",
    "    loss = 0\n",
    "    with torch.no_grad():\n",
    "        for (X_batch,y_batch) in loader:\n",
    "            # y_pred = model(X_batch)['diacritics']\n",
    "            y_pred = model(X_batch)\n",
    "            y_pred = y_pred.transpose(1, 2) \n",
    "            loss += loss_fn(y_pred, y_batch)\n",
    "        if loss < best_loss:\n",
    "            best_loss = loss\n",
    "            best_model = model.state_dict()\n",
    "        print(\"Epoch %d: Cross-entropy: %.4f\" % (epoch, loss))\n"
   ]
  },
  {
   "cell_type": "code",
   "execution_count": 20,
   "metadata": {},
   "outputs": [
    {
     "name": "stdout",
     "output_type": "stream",
     "text": [
      "w = 1129\n",
      "{'ا': 0, 'ب': 1, 'ت': 2, 'ث': 3, 'ج': 4, 'ح': 5, 'خ': 6, 'د': 7, 'ذ': 8, 'ر': 9, 'ز': 10, 'س': 11, 'ش': 12, 'ص': 13, 'ض': 14, 'ط': 15, 'ظ': 16, 'ع': 17, 'غ': 18, 'ف': 19, 'ق': 20, 'ك': 21, 'ل': 22, 'م': 23, 'ن': 24, 'ه': 25, 'و': 26, 'ي': 27, 'ى': 28, 'ة': 29, 'آ': 30, 'أ': 31, 'إ': 32, 'ء': 33, 'ؤ': 34, 'ئ': 35, ' ': 36, '،': 37, '-': 38, '<pad>': 39, '<unk>': 40}\n"
     ]
    }
   ],
   "source": [
    "val_dataset = LettersDataset('clean_out/X_val.csv', 'clean_out/y_val.csv',val_mode=True, device=device)   \n",
    "\n",
    "val_loader = data.DataLoader(val_dataset,  batch_size=batch_size)\n",
    "print(val_dataset.char_encoder.word2idx)\n",
    "# evaluaate accuracy on validation set\n",
    "\n",
    "model.eval()\n",
    "letter_haraka = []\n",
    "with torch.no_grad():\n",
    "    for (X_batch,y_batch) in val_loader:\n",
    "        # y_pred = model(X_batch)['diacritics']\n",
    "        y_pred = model(X_batch)\n",
    "        # we transpose because the loss function expects the second dimension to be the classes\n",
    "        # y_pred is now (batch_size, n_classes, seq_len)\n",
    "        y_pred = y_pred.transpose(1, 2) \n",
    "        _, predicted = torch.max(y_pred.data, 1)\n",
    "        # Count only non-padding characters\n",
    "        for x,y in zip(X_batch,predicted):\n",
    "            for xx,yy in zip(x,y):\n",
    "                # we reached the end of the sentence\n",
    "                # print(xx.item())\n",
    "                # print(val_dataset.char_encoder.get_pad_id())\n",
    "                # print(val_dataset.char_encoder.get_id_by_token(UNK_TOKEN))\n",
    "                if xx.item() == val_dataset.char_encoder.get_pad_id():\n",
    "                    break\n",
    "                ll = val_dataset.char_encoder.is_arabic_letter(xx.item())\n",
    "                if ll:\n",
    "                    letter_haraka.append([ll,yy.item()])\n",
    "\n",
    "# save ID,Label pairs in a csv file\n",
    "import pandas as pd\n",
    "df = pd.DataFrame(letter_haraka, columns=['letter','label'])\n",
    "df.to_csv('./results/letter_haraka.csv', index=True, index_label='ID')\n",
    "\n"
   ]
  },
  {
   "cell_type": "code",
   "execution_count": 21,
   "metadata": {},
   "outputs": [
    {
     "name": "stdout",
     "output_type": "stream",
     "text": [
      "Accuracy: 95.32%\n"
     ]
    }
   ],
   "source": [
    "gold_val = pd.read_csv('clean_out/val_gold.csv',index_col=0)\n",
    "sys_val = pd.read_csv('results/letter_haraka.csv',index_col=0)\n",
    "# Accuracy per letter\n",
    "# print(gold_val.head())\n",
    "# print(sys_val.head())   \n",
    "# print(gold_val.iloc[0]['label'])\n",
    "\n",
    "correct = 0\n",
    "total = len(gold_val)\n",
    "for i in range(total):\n",
    "    # print(gold_val[i][0], sys_val[i][0])\n",
    "    correct +=( gold_val.iloc[i]['label'] == sys_val.iloc[i]['label'])\n",
    "    \n",
    "print(\"Accuracy: %.2f%%\" % (100.0 * correct / total))"
   ]
  },
  {
   "cell_type": "code",
   "execution_count": 23,
   "metadata": {},
   "outputs": [],
   "source": [
    "# save model \n",
    "# torch.save(model, 'models/lstm.pth')\n",
    "# save model state dict\n",
    "torch.save(model.state_dict(), 'models/bilstm.pth')\n",
    "# load model state dict\n",
    "# model = BiLSTM()\n",
    "# model.load_state_dict(torch.load('models/bilstm.pth'))\n",
    "# load model\n",
    "# model = torch.load('models/___.pth')"
   ]
  },
  {
   "cell_type": "code",
   "execution_count": 16,
   "metadata": {},
   "outputs": [
    {
     "name": "stdout",
     "output_type": "stream",
     "text": [
      "DER of the network on the validation set: 8 %\n"
     ]
    }
   ],
   "source": [
    "print('DER of the network on the validation set: %d %%' % (100 * (1 - correct / total)))\n"
   ]
  },
  {
   "cell_type": "code",
   "execution_count": 17,
   "metadata": {},
   "outputs": [],
   "source": [
    "# val_dataset = LettersDataset('clean_out/X_test.csv', 'clean_out/Y_test.csv', device=device)   \n",
    "\n",
    "# val_loader = data.DataLoader(val_dataset, shuffle=True, batch_size=batch_size)\n",
    "\n",
    "# # evaluaate accuracy on validation set\n",
    "\n",
    "\n",
    "# model.eval()\n",
    "# correct = 0\n",
    "# total = 0\n",
    "\n",
    "# with torch.no_grad():\n",
    "#     for (X_batch,y_batch) in val_loader:\n",
    "#         is_padding = X_batch == val_dataset.char_encoder.get_pad_id()\n",
    "#         # y_pred = model(X_batch)['diacritics']\n",
    "#         y_pred = model(X_batch)\n",
    "#         y_pred = y_pred.transpose(1, 2) \n",
    "#         _, predicted = torch.max(y_pred.data, 1)\n",
    "#         # Count only non-padding characters\n",
    "#         total += torch.sum(~is_padding).item()\n",
    "        \n",
    "#         # Count correct predictions\n",
    "#         correct += torch.sum((predicted == y_batch) & (~is_padding)).item()\n",
    "# print(\"Accuracy: %.2f%%\" % (100 * correct / total))\n",
    "\n"
   ]
  }
 ],
 "metadata": {
  "kernelspec": {
   "display_name": "base",
   "language": "python",
   "name": "python3"
  },
  "language_info": {
   "codemirror_mode": {
    "name": "ipython",
    "version": 3
   },
   "file_extension": ".py",
   "mimetype": "text/x-python",
   "name": "python",
   "nbconvert_exporter": "python",
   "pygments_lexer": "ipython3",
   "version": "3.9.13"
  }
 },
 "nbformat": 4,
 "nbformat_minor": 2
}
