{
 "cells": [
  {
   "cell_type": "code",
   "execution_count": 1,
   "metadata": {},
   "outputs": [],
   "source": [
    "import torch\n",
    "import torch.optim as optim\n",
    "import torch.utils.data as data\n",
    "from torch.utils.data import Dataset, DataLoader\n",
    "from letters_dataset import LettersDataset\n",
    "from text_encoder import TextEncoder\n",
    "import torch.nn as nn\n",
    "from train_collections import DS_ARABIC_LETTERS, DS_HARAKAT\n",
    "import numpy as np\n",
    "from tqdm import tqdm"
   ]
  },
  {
   "cell_type": "code",
   "execution_count": 9,
   "metadata": {},
   "outputs": [],
   "source": [
    "\n",
    "dim_vocab = len(DS_ARABIC_LETTERS)\n",
    "dim_out = len(DS_HARAKAT) + 2\n",
    "embedding_dim = 64\n",
    "n_epochs = 1\n",
    "batch_size = 64\n"
   ]
  },
  {
   "cell_type": "code",
   "execution_count": 3,
   "metadata": {},
   "outputs": [
    {
     "name": "stdout",
     "output_type": "stream",
     "text": [
      "w = 495\n"
     ]
    }
   ],
   "source": [
    "\n",
    "dataset = LettersDataset()\n",
    "loader = data.DataLoader(dataset, shuffle=True, batch_size=batch_size)\n",
    "\n",
    "# load val data\n",
    "# da = LettersDataset('clean_out/X_val.csv', 'clean_out/y_val.csv')\n"
   ]
  },
  {
   "cell_type": "code",
   "execution_count": 14,
   "metadata": {},
   "outputs": [
    {
     "name": "stdout",
     "output_type": "stream",
     "text": [
      "Number of batches: 1295\n"
     ]
    },
    {
     "name": "stderr",
     "output_type": "stream",
     "text": [
      "0it [00:00, ?it/s]"
     ]
    },
    {
     "name": "stdout",
     "output_type": "stream",
     "text": [
      "tensor([[58, 31, 27,  ..., 59, 59, 59],\n",
      "        [58, 19,  0,  ..., 59, 59, 59],\n",
      "        [58, 20, 26,  ..., 59, 59, 59],\n",
      "        ...,\n",
      "        [58,  3, 23,  ..., 59, 59, 59],\n",
      "        [58, 19, 32,  ..., 59, 59, 59],\n",
      "        [58, 23, 11,  ..., 59, 59, 59]])\n"
     ]
    },
    {
     "name": "stderr",
     "output_type": "stream",
     "text": [
      "1it [00:00,  1.08it/s]"
     ]
    },
    {
     "name": "stdout",
     "output_type": "stream",
     "text": [
      "Epoch 0, batch 0: Loss = 2.8541\n",
      "tensor([[58, 20, 26,  ..., 59, 59, 59],\n",
      "        [58, 20, 26,  ..., 59, 59, 59],\n",
      "        [58, 12,  9,  ..., 59, 59, 59],\n",
      "        ...,\n",
      "        [19, 31, 12,  ..., 59, 59, 59],\n",
      "        [58, 18, 27,  ..., 59, 59, 59],\n",
      "        [58, 26, 22,  ..., 59, 59, 59]])\n"
     ]
    },
    {
     "name": "stderr",
     "output_type": "stream",
     "text": [
      "2it [00:01,  1.11it/s]"
     ]
    },
    {
     "name": "stdout",
     "output_type": "stream",
     "text": [
      "tensor([[58, 20, 26,  ..., 59, 59, 59],\n",
      "        [58,  1, 24,  ..., 59, 59, 59],\n",
      "        [32,  8,  0,  ..., 59, 59, 59],\n",
      "        ...,\n",
      "        [58, 22, 31,  ..., 59, 59, 59],\n",
      "        [58, 26, 11,  ..., 59, 59, 59],\n",
      "        [26, 20, 26,  ..., 59, 59, 59]])\n"
     ]
    },
    {
     "name": "stderr",
     "output_type": "stream",
     "text": [
      "3it [00:02,  1.02s/it]"
     ]
    },
    {
     "name": "stdout",
     "output_type": "stream",
     "text": [
      "tensor([[58, 22, 22,  ..., 59, 59, 59],\n",
      "        [58, 22, 20,  ..., 59, 59, 59],\n",
      "        [58, 19, 27,  ..., 59, 59, 59],\n",
      "        ...,\n",
      "        [58, 31, 24,  ..., 59, 59, 59],\n",
      "        [58, 31, 27,  ..., 59, 59, 59],\n",
      "        [58, 23, 24,  ..., 59, 59, 59]])\n"
     ]
    },
    {
     "name": "stderr",
     "output_type": "stream",
     "text": [
      "4it [00:03,  1.02it/s]"
     ]
    },
    {
     "name": "stdout",
     "output_type": "stream",
     "text": [
      "tensor([[58, 19,  8,  ..., 59, 59, 59],\n",
      "        [58,  9, 26,  ..., 59, 59, 59],\n",
      "        [58, 27,  2,  ..., 59, 59, 59],\n",
      "        ...,\n",
      "        [58, 56, 36,  ..., 59, 59, 59],\n",
      "        [58, 20, 26,  ..., 59, 59, 59],\n",
      "        [58, 19, 25,  ..., 59, 59, 59]])\n"
     ]
    },
    {
     "name": "stderr",
     "output_type": "stream",
     "text": [
      "5it [00:04,  1.11it/s]"
     ]
    },
    {
     "name": "stdout",
     "output_type": "stream",
     "text": [
      "tensor([[58, 36,  5,  ..., 59, 59, 59],\n",
      "        [58, 26, 20,  ..., 59, 59, 59],\n",
      "        [58, 56, 36,  ..., 59, 59, 59],\n",
      "        ...,\n",
      "        [58, 31, 26,  ..., 59, 59, 59],\n",
      "        [58, 20, 26,  ..., 59, 59, 59],\n",
      "        [58, 30, 27,  ..., 59, 59, 59]])\n"
     ]
    },
    {
     "name": "stderr",
     "output_type": "stream",
     "text": [
      "6it [00:05,  1.18it/s]"
     ]
    },
    {
     "name": "stdout",
     "output_type": "stream",
     "text": [
      "tensor([[58, 14,  5,  ..., 59, 59, 59],\n",
      "        [58, 31, 27,  ..., 59, 59, 59],\n",
      "        [58, 26, 22,  ..., 59, 59, 59],\n",
      "        ...,\n",
      "        [58, 25,  8,  ..., 59, 59, 59],\n",
      "        [56, 36, 26,  ..., 59, 59, 59],\n",
      "        [58, 19, 27,  ..., 59, 59, 59]])\n"
     ]
    },
    {
     "name": "stderr",
     "output_type": "stream",
     "text": [
      "7it [00:06,  1.22it/s]"
     ]
    },
    {
     "name": "stdout",
     "output_type": "stream",
     "text": [
      "tensor([[58, 23,  0,  ..., 36, 23, 24],\n",
      "        [58, 26, 32,  ..., 59, 59, 59],\n",
      "        [58, 19, 22,  ..., 59, 59, 59],\n",
      "        ...,\n",
      "        [58, 25, 26,  ..., 59, 59, 59],\n",
      "        [58, 20, 26,  ..., 59, 59, 59],\n",
      "        [58, 31,  5,  ..., 59, 59, 59]])\n"
     ]
    },
    {
     "name": "stderr",
     "output_type": "stream",
     "text": [
      "8it [00:06,  1.22it/s]"
     ]
    },
    {
     "name": "stdout",
     "output_type": "stream",
     "text": [
      "tensor([[ 3, 23, 36,  ..., 59, 59, 59],\n",
      "        [20,  0, 22,  ..., 59, 59, 59],\n",
      "        [58, 20, 22,  ..., 59, 59, 59],\n",
      "        ...,\n",
      "        [58, 23, 17,  ..., 59, 59, 59],\n",
      "        [58, 20, 26,  ..., 59, 59, 59],\n",
      "        [58, 22, 26,  ..., 59, 59, 59]])\n"
     ]
    },
    {
     "name": "stderr",
     "output_type": "stream",
     "text": [
      "9it [00:07,  1.24it/s]"
     ]
    },
    {
     "name": "stdout",
     "output_type": "stream",
     "text": [
      "tensor([[26, 32, 24,  ..., 59, 59, 59],\n",
      "        [26, 19, 27,  ..., 59, 59, 59],\n",
      "        [20,  0, 22,  ..., 59, 59, 59],\n",
      "        ...,\n",
      "        [58, 31, 27,  ..., 59, 59, 59],\n",
      "        [58, 20, 26,  ..., 59, 59, 59],\n",
      "        [58, 56, 36,  ..., 59, 59, 59]])\n"
     ]
    },
    {
     "name": "stderr",
     "output_type": "stream",
     "text": [
      "10it [00:08,  1.18it/s]"
     ]
    },
    {
     "name": "stdout",
     "output_type": "stream",
     "text": [
      "tensor([[58,  1, 25,  ..., 59, 59, 59],\n",
      "        [26, 17,  1,  ..., 59, 59, 59],\n",
      "        [58, 37, 36,  ..., 59, 59, 59],\n",
      "        ...,\n",
      "        [58,  0, 22,  ..., 59, 59, 59],\n",
      "        [26, 20,  7,  ..., 59, 59, 59],\n",
      "        [22, 26, 36,  ..., 59, 59, 59]])\n"
     ]
    },
    {
     "name": "stderr",
     "output_type": "stream",
     "text": [
      "11it [00:09,  1.09it/s]"
     ]
    },
    {
     "name": "stdout",
     "output_type": "stream",
     "text": [
      "tensor([[20,  0, 22,  ..., 59, 59, 59],\n",
      "        [58, 31, 26,  ..., 59, 59, 59],\n",
      "        [58, 37, 36,  ..., 59, 59, 59],\n",
      "        ...,\n",
      "        [58, 36, 26,  ..., 59, 59, 59],\n",
      "        [58, 22, 31,  ..., 59, 59, 59],\n",
      "        [31,  2, 20,  ..., 59, 59, 59]])\n"
     ]
    }
   ],
   "source": [
    "\n",
    "\n",
    "\n",
    "\n",
    "class CharModel(nn.Module):\n",
    "    def __init__(self):\n",
    "        super().__init__()\n",
    "\n",
    "        # embedding and LSTM layers\n",
    "        self.embedding = nn.Embedding(dim_vocab, embedding_dim)\n",
    "\n",
    "        self.lstm = nn.LSTM(input_size=embedding_dim, hidden_size=256,\n",
    "                            num_layers=1, batch_first=True )\n",
    "        self.dropout = nn.Dropout(0.2)\n",
    "        self.linear = nn.Linear(256, dim_out)\n",
    "\n",
    "    def forward(self, x):\n",
    "        # pass thru embedding layer\n",
    "        x = self.embedding(x)\n",
    "        x, _ = self.lstm(x)\n",
    "        x = self.linear(self.dropout(x))\n",
    "        return x\n",
    "\n",
    "\n",
    "\n",
    "model = CharModel()\n",
    "\n",
    "optimizer = optim.Adam(model.parameters())\n",
    "loss_fn = nn.CrossEntropyLoss()\n",
    "num_batches = len(loader)\n",
    "print(\"Number of batches:\", num_batches)\n",
    "best_model = None\n",
    "best_loss = np.inf\n",
    "for epoch in range(n_epochs):\n",
    "    model.train()\n",
    "    for i, batch in tqdm(enumerate(loader)):\n",
    "        X_batch = batch[\"input\"]\n",
    "        y_batch = batch[\"output\"]\n",
    "        y_pred = ''\n",
    "        y_pred = model(X_batch)\n",
    "        print(X_batch)\n",
    "        y_pred = y_pred.transpose(1, 2) \n",
    "        # print(y_pred.shape)\n",
    "        # print(y_batch.shape)\n",
    "        loss = loss_fn(y_pred, y_batch)\n",
    "        optimizer.zero_grad()\n",
    "        loss.backward()\n",
    "        optimizer.step()\n",
    "        if i % 100 == 0:\n",
    "            print(\"Epoch %d, batch %d: Loss = %.4f\" % (epoch, i, loss))\n",
    "        \n",
    "    # Validation\n",
    "    model.eval()\n",
    "    loss = 0\n",
    "    with torch.no_grad():\n",
    "        for batch in loader:\n",
    "            X_batch = batch[\"input\"]\n",
    "            y_batch = batch[\"output\"]\n",
    "            y_pred = model(X_batch)\n",
    "            loss += loss_fn(y_pred, y_batch)\n",
    "        if loss < best_loss:\n",
    "            best_loss = loss\n",
    "            best_model = model.state_dict()\n",
    "        print(\"Epoch %d: Cross-entropy: %.4f\" % (epoch, loss))\n"
   ]
  }
 ],
 "metadata": {
  "kernelspec": {
   "display_name": "base",
   "language": "python",
   "name": "python3"
  },
  "language_info": {
   "codemirror_mode": {
    "name": "ipython",
    "version": 3
   },
   "file_extension": ".py",
   "mimetype": "text/x-python",
   "name": "python",
   "nbconvert_exporter": "python",
   "pygments_lexer": "ipython3",
   "version": "3.9.13"
  }
 },
 "nbformat": 4,
 "nbformat_minor": 2
}
