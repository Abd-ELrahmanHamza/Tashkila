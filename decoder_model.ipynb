{
 "cells": [
  {
   "cell_type": "code",
   "execution_count": 1,
   "metadata": {},
   "outputs": [],
   "source": [
    "import torch\n",
    "from torch.utils.data import TensorDataset, DataLoader  # these are needed for the training data\n",
    "import numpy as np\n",
    "from constants import *\n"
   ]
  },
  {
   "cell_type": "code",
   "execution_count": 2,
   "metadata": {},
   "outputs": [
    {
     "name": "stdout",
     "output_type": "stream",
     "text": [
      "tensor([[1, 0, 0,  ..., 0, 0, 0],\n",
      "        [0, 1, 0,  ..., 0, 0, 0],\n",
      "        [0, 0, 1,  ..., 0, 0, 0],\n",
      "        ...,\n",
      "        [0, 0, 0,  ..., 1, 0, 0],\n",
      "        [0, 0, 0,  ..., 0, 1, 0],\n",
      "        [0, 0, 0,  ..., 0, 0, 1]], dtype=torch.int32)\n",
      "torch.Size([95, 95])\n"
     ]
    }
   ],
   "source": [
    "characters :list[str] = ARABIC_LETTERS + [' '] + ARABIC_PUNCTUATIONS + ['.'] + ENGLISH_PUNCTUATIONS + ['\\u200f'] + ['']\n",
    "char2idx = {u:i for i, u in enumerate(characters)}\n",
    "idx2char = np.array(characters)\n",
    "# create one hot encoding for each character\n",
    "characters_hot_encoding = torch.eye(len(characters), dtype=torch.int32)\n",
    "print(characters_hot_encoding)\n",
    "print(characters_hot_encoding.shape)\n"
   ]
  },
  {
   "cell_type": "code",
   "execution_count": 3,
   "metadata": {},
   "outputs": [
    {
     "name": "stdout",
     "output_type": "stream",
     "text": [
      "{'َ': 0, 'ُ': 1, 'ِ': 2, 'ْ': 3, 'ً': 4, 'ٌ': 5, 'ٍ': 6, 'ّ': 7, 'َّ': 8, 'ُّ': 9, 'ِّ': 10, 'ًّ': 11, 'ٌّ': 12, 'ٍّ': 13, '$': 14}\n",
      "['َ' 'ُ' 'ِ' 'ْ' 'ً' 'ٌ' 'ٍ' 'ّ' 'َّ' 'ُّ' 'ِّ' 'ًّ' 'ٌّ' 'ٍّ' '$']\n",
      "15\n"
     ]
    }
   ],
   "source": [
    "\n",
    "NON_HARAKA = '$'\n",
    "\n",
    "all_harakat = [\n",
    "    FATHA,\n",
    "    DAMMA,\n",
    "    KASRA,\n",
    "    SUKUN,\n",
    "    FATHATAN,\n",
    "    DAMMATAN,\n",
    "    KASRATAN,\n",
    "    SHADDA,\n",
    "    SHADDA + FATHA,\n",
    "    SHADDA + DAMMA,\n",
    "    SHADDA + KASRA,\n",
    "    SHADDA + FATHATAN,\n",
    "    SHADDA + DAMMATAN,\n",
    "    SHADDA + KASRATAN,\n",
    "    NON_HARAKA\n",
    "]\n",
    "\n",
    "# harakat to index and vice versa\n",
    "harakat2idx = {u:i for i, u in enumerate(all_harakat)}\n",
    "idx2harakat = np.array(all_harakat)\n",
    "\n",
    "print(harakat2idx)\n",
    "print(idx2harakat)\n",
    "print(len(all_harakat))"
   ]
  },
  {
   "cell_type": "code",
   "execution_count": 4,
   "metadata": {},
   "outputs": [],
   "source": [
    "XTRAIN_PATH = f'clean_out/X.csv'\n",
    "YTRAIN_PATH = f'clean_out/y.csv'\n",
    "\n",
    "\n",
    "def read_data(input_path,output_path,verbose=False):\n",
    "    X = []\n",
    "    Y = []\n",
    "    # read csv files\n",
    "    with open(input_path, 'r', encoding=\"utf8\") as f:\n",
    "        X = f.readlines()\n",
    "    with open(output_path, 'r', encoding=\"utf8\") as f:\n",
    "        Y = f.readlines()\n",
    "\n",
    "    # remove the \\n from the end of each line\n",
    "    # make sure the number of lines in the two files are the same\n",
    "    assert len(X) == len(Y)\n",
    "\n",
    "    # split each line into a list of characters\n",
    "    X = [x.strip().split('s') for x in X]\n",
    "    Y = [y.strip().split('s') for y in Y]\n",
    "\n",
    "    X = [item for sublist in X for item in sublist] + ['']*8\n",
    "    Y = [item for sublist in Y for item in sublist] + ['$']*8\n",
    "\n",
    "    if verbose:\n",
    "        print('Data read successfully.')\n",
    "        print(f'Number of lines: {len(X)}')\n",
    "        print(f'X: {X[0]}')\n",
    "        print(f'Y: {Y[0]}')\n",
    "\n",
    "    return X, Y"
   ]
  },
  {
   "cell_type": "code",
   "execution_count": 5,
   "metadata": {},
   "outputs": [
    {
     "name": "stdout",
     "output_type": "stream",
     "text": [
      "torch.Size([16636, 650])\n",
      "torch.Size([16636, 650])\n"
     ]
    }
   ],
   "source": [
    "X, Y = read_data(XTRAIN_PATH, YTRAIN_PATH, verbose=False)\n",
    "\n",
    "x_new = [char2idx[x] for x in X]\n",
    "y_new = [harakat2idx[y] for y in Y]\n",
    "\n",
    "data_len = len(x_new)\n",
    "\n",
    "# get the largest num that len of x_new can be divided by\n",
    "# so that we can convert it to a tensor\n",
    "num = 1\n",
    "l = 1\n",
    "r = 1001\n",
    "for i in range(r, l, -1):\n",
    "    if data_len % i == 0:\n",
    "        num = i\n",
    "        break\n",
    "\n",
    "# convert data to 1000 sentences each and convert it to tensors\n",
    "x_new = torch.tensor(x_new).view(-1, num)\n",
    "y_new = torch.tensor(y_new).view(-1, num)\n",
    "\n",
    "# convert to hot encoding\n",
    "x_train = x_new\n",
    "\n",
    "y_train = y_new\n",
    "\n",
    "print(x_train.shape)\n",
    "print(y_train.shape)"
   ]
  },
  {
   "cell_type": "code",
   "execution_count": 6,
   "metadata": {},
   "outputs": [],
   "source": [
    "import lightning as pl"
   ]
  },
  {
   "cell_type": "code",
   "execution_count": 7,
   "metadata": {},
   "outputs": [],
   "source": [
    "import torch # torch will allow us to create tensors.\n",
    "import torch.nn as nn # torch.nn allows us to create a neural network.\n",
    "from torch.optim import Adam # optim contains many optimizers. This time we're using Adam\n",
    "from torchmetrics import Accuracy\n",
    "\n",
    "\n",
    "# batch size, sequence length, input size\n",
    "\n",
    "class Decoder(pl.LightningModule):\n",
    "    def __init__(self, input_size, embedding_size, hidden_size, output_size):\n",
    "        super().__init__()\n",
    "        self.input_size = input_size\n",
    "        self.hidden_size = hidden_size\n",
    "        self.output_size = output_size\n",
    "        self.embedding_size = embedding_size\n",
    "        self.embedding = nn.Embedding(input_size, embedding_size)\n",
    "        self.rnn = nn.LSTM(embedding_size, hidden_size, batch_first=True)\n",
    "        self.fc = nn.Linear(hidden_size, output_size)\n",
    "        self.loss = nn.CrossEntropyLoss()\n",
    "        print(\"from decoder init\")\n",
    "        print(\"adham\")\n",
    "\n",
    "    def forward(self, x, h0, c0):\n",
    "        # print(\"from decoder forward\")\n",
    "        # print(x.shape)\n",
    "        embeddings = self.embedding(x).cuda()\n",
    "        # print(\"from decoder forward after embedding\")\n",
    "        # print(embeddings.shape)\n",
    "        h, (hn, cn) = self.rnn(embeddings, (h0, c0))\n",
    "        # h is the output of the RNN\n",
    "        # hn is the hidden state of the last timestep\n",
    "        # cn is the cell state of the last timestep\n",
    "        out = self.fc(h)\n",
    "        return out\n",
    "\n",
    "    def training_step(self, batch, batch_idx):\n",
    "        x, y = batch\n",
    "        batch_size = x.shape[0]\n",
    "        # print(\"from decoder training step\")\n",
    "        # print(x.shape)\n",
    "        h0 = torch.zeros(1, batch_size, self.hidden_size).cuda()\n",
    "        c0 = torch.zeros(1, batch_size, self.hidden_size).cuda()\n",
    "        y_hat = self.forward(x, h0, c0).cuda()\n",
    "        # y_hat is the output of the model of shape (batch_size, sequence_length, output_size)\n",
    "        # y is the target of shape (batch_size, sequence_length)\n",
    "        # y contains the index of the correct word in the vocabulary\n",
    "        loss = self.loss(y_hat.view(-1, self.output_size), y.view(-1)).cuda()\n",
    "        self.log('train_loss', loss)\n",
    "        return loss\n",
    "\n",
    "    def configure_optimizers(self):\n",
    "        return Adam(self.parameters(), lr=0.1)\n",
    "    \n",
    "    def validation_step(self, batch, batch_idx):\n",
    "        x, y = batch\n",
    "        batch_size = x.shape[0]\n",
    "        h0 = torch.zeros(1, batch_size, self.hidden_size).cuda()\n",
    "        c0 = torch.zeros(1, batch_size, self.hidden_size).cuda()\n",
    "        y_hat = self.forward(x, h0, c0).cuda()\n",
    "        loss = self.loss(y_hat.view(-1, self.output_size), y.view(-1)).cuda()\n",
    "        accuracy = Accuracy().cuda()\n",
    "        acc = accuracy(y_hat.view(-1, self.output_size), y.view(-1)).cuda()\n",
    "        self.log('val_acc', acc,on_epoch=True)\n",
    "        return loss\n",
    "    \n",
    "    def test_step(self, batch, batch_idx):\n",
    "        x, y = batch\n",
    "        batch_size = x.shape[0]\n",
    "        h0 = torch.zeros(1, batch_size, self.hidden_size).cuda()\n",
    "        c0 = torch.zeros(1, batch_size, self.hidden_size).cuda()\n",
    "        y_hat = self.forward(x, h0, c0).cuda()\n",
    "        loss = self.loss(y_hat.view(-1, self.output_size), y.view(-1)).cuda()\n",
    "        accuracy = Accuracy().cuda()\n",
    "        acc = accuracy(y_hat.view(-1, self.output_size), y.view(-1)).cuda()\n",
    "        self.log('test_acc', acc,on_epoch=True)\n",
    "        return loss\n"
   ]
  },
  {
   "cell_type": "code",
   "execution_count": 16,
   "metadata": {},
   "outputs": [],
   "source": [
    "# create a tensor dataset\n",
    "dataset_tensor = TensorDataset(x_train, y_train)\n",
    "\n",
    "# create a data loader\n",
    "data_loader = DataLoader(dataset_tensor, batch_size=100, shuffle=True)"
   ]
  },
  {
   "cell_type": "code",
   "execution_count": 21,
   "metadata": {},
   "outputs": [
    {
     "name": "stdout",
     "output_type": "stream",
     "text": [
      "from decoder init\n",
      "adham\n",
      "cuda is available\n"
     ]
    }
   ],
   "source": [
    "# create a decoder\n",
    "model = Decoder(\n",
    "    input_size=len(characters),\n",
    "    hidden_size=256,\n",
    "    output_size=len(all_harakat),\n",
    "    embedding_size=512,\n",
    ")\n",
    "if torch.cuda.is_available():\n",
    "   print(\"cuda is available\")\n",
    "   model = model.cuda()\n",
    "   x_train = x_train.cuda() \n",
    "   y_train = y_train.cuda()"
   ]
  },
  {
   "cell_type": "code",
   "execution_count": 18,
   "metadata": {},
   "outputs": [],
   "source": [
    "# load X_test and y_test\n",
    "X_TEST_TRAIN_PATH = f'clean_out/X_val.csv'\n",
    "Y_TEST_TRAIN_PATH = f'clean_out/y_val.csv'"
   ]
  },
  {
   "cell_type": "code",
   "execution_count": 19,
   "metadata": {},
   "outputs": [
    {
     "name": "stdout",
     "output_type": "stream",
     "text": [
      "torch.Size([840, 650])\n",
      "torch.Size([840, 650])\n"
     ]
    }
   ],
   "source": [
    "X_test, Y_test = read_data(X_TEST_TRAIN_PATH, Y_TEST_TRAIN_PATH, verbose=False)\n",
    "\n",
    "x_test_new = [char2idx[x] for x in X_test]\n",
    "y_test_new = [harakat2idx[y] for y in Y_test]\n",
    "\n",
    "num = 650\n",
    "\n",
    "# padding the data to be divisible by num\n",
    "x_test_new += [0] * (num - len(x_test_new) % num)\n",
    "y_test_new += [0] * (num - len(y_test_new) % num)\n",
    "\n",
    "x_test = torch.tensor(x_test_new).view(-1, num).cuda()\n",
    "y_test = torch.tensor(y_test_new).view(-1, num).cuda()\n",
    "\n",
    "print(x_test.shape)\n",
    "print(y_test.shape)\n"
   ]
  },
  {
   "cell_type": "code",
   "execution_count": 20,
   "metadata": {},
   "outputs": [],
   "source": [
    "test_dataset_tensor = TensorDataset(x_test, y_test)\n",
    "\n",
    "# create a data loader\n",
    "test_data_loader = DataLoader(test_dataset_tensor, batch_size=10, shuffle=True)"
   ]
  },
  {
   "cell_type": "code",
   "execution_count": 22,
   "metadata": {},
   "outputs": [
    {
     "name": "stderr",
     "output_type": "stream",
     "text": [
      "GPU available: True (cuda), used: True\n",
      "TPU available: False, using: 0 TPU cores\n",
      "IPU available: False, using: 0 IPUs\n",
      "HPU available: False, using: 0 HPUs\n",
      "c:\\Users\\adham ali\\AppData\\Local\\Programs\\Python\\Python310\\lib\\site-packages\\lightning\\pytorch\\trainer\\configuration_validator.py:74: You defined a `validation_step` but have no `val_dataloader`. Skipping val loop.\n",
      "LOCAL_RANK: 0 - CUDA_VISIBLE_DEVICES: [0]\n",
      "\n",
      "  | Name      | Type             | Params\n",
      "-----------------------------------------------\n",
      "0 | embedding | Embedding        | 48.6 K\n",
      "1 | rnn       | LSTM             | 788 K \n",
      "2 | fc        | Linear           | 3.9 K \n",
      "3 | loss      | CrossEntropyLoss | 0     \n",
      "-----------------------------------------------\n",
      "840 K     Trainable params\n",
      "0         Non-trainable params\n",
      "840 K     Total params\n",
      "3.364     Total estimated model params size (MB)\n"
     ]
    },
    {
     "data": {
      "application/vnd.jupyter.widget-view+json": {
       "model_id": "5349867ff5bc4c54b4d8510399814766",
       "version_major": 2,
       "version_minor": 0
      },
      "text/plain": [
       "Training: |          | 0/? [00:00<?, ?it/s]"
      ]
     },
     "metadata": {},
     "output_type": "display_data"
    }
   ],
   "source": [
    "trainer = pl.Trainer(max_epochs=30, accelerator=\"auto\", devices=\"auto\",log_every_n_steps=10)\n",
    "# trainer = pl.Trainer(max_epochs=3)\n",
    "trainer.fit(model, train_dataloaders=data_loader)"
   ]
  },
  {
   "cell_type": "code",
   "execution_count": 14,
   "metadata": {},
   "outputs": [
    {
     "name": "stdout",
     "output_type": "stream",
     "text": [
      "{'train_loss': tensor(0.6528)}\n"
     ]
    }
   ],
   "source": [
    "# print training loss\n",
    "print(trainer.logged_metrics)"
   ]
  },
  {
   "cell_type": "code",
   "execution_count": 15,
   "metadata": {},
   "outputs": [
    {
     "name": "stderr",
     "output_type": "stream",
     "text": [
      "LOCAL_RANK: 0 - CUDA_VISIBLE_DEVICES: [0]\n",
      "c:\\Users\\adham ali\\AppData\\Local\\Programs\\Python\\Python310\\lib\\site-packages\\lightning\\pytorch\\trainer\\connectors\\data_connector.py:492: Your `test_dataloader`'s sampler has shuffling enabled, it is strongly recommended that you turn shuffling off for val/test dataloaders.\n",
      "c:\\Users\\adham ali\\AppData\\Local\\Programs\\Python\\Python310\\lib\\site-packages\\lightning\\pytorch\\trainer\\connectors\\data_connector.py:441: The 'test_dataloader' does not have many workers which may be a bottleneck. Consider increasing the value of the `num_workers` argument` to `num_workers=11` in the `DataLoader` to improve performance.\n"
     ]
    },
    {
     "data": {
      "application/vnd.jupyter.widget-view+json": {
       "model_id": "2a9e5c1c2bdf4138b2c55ff4e34017f1",
       "version_major": 2,
       "version_minor": 0
      },
      "text/plain": [
       "Testing: |          | 0/? [00:00<?, ?it/s]"
      ]
     },
     "metadata": {},
     "output_type": "display_data"
    },
    {
     "data": {
      "text/html": [
       "<pre style=\"white-space:pre;overflow-x:auto;line-height:normal;font-family:Menlo,'DejaVu Sans Mono',consolas,'Courier New',monospace\">┏━━━━━━━━━━━━━━━━━━━━━━━━━━━┳━━━━━━━━━━━━━━━━━━━━━━━━━━━┓\n",
       "┃<span style=\"font-weight: bold\">        Test metric        </span>┃<span style=\"font-weight: bold\">       DataLoader 0        </span>┃\n",
       "┡━━━━━━━━━━━━━━━━━━━━━━━━━━━╇━━━━━━━━━━━━━━━━━━━━━━━━━━━┩\n",
       "│<span style=\"color: #008080; text-decoration-color: #008080\">         test_acc          </span>│<span style=\"color: #800080; text-decoration-color: #800080\">    0.7661538124084473     </span>│\n",
       "└───────────────────────────┴───────────────────────────┘\n",
       "</pre>\n"
      ],
      "text/plain": [
       "┏━━━━━━━━━━━━━━━━━━━━━━━━━━━┳━━━━━━━━━━━━━━━━━━━━━━━━━━━┓\n",
       "┃\u001b[1m \u001b[0m\u001b[1m       Test metric       \u001b[0m\u001b[1m \u001b[0m┃\u001b[1m \u001b[0m\u001b[1m      DataLoader 0       \u001b[0m\u001b[1m \u001b[0m┃\n",
       "┡━━━━━━━━━━━━━━━━━━━━━━━━━━━╇━━━━━━━━━━━━━━━━━━━━━━━━━━━┩\n",
       "│\u001b[36m \u001b[0m\u001b[36m        test_acc         \u001b[0m\u001b[36m \u001b[0m│\u001b[35m \u001b[0m\u001b[35m   0.7661538124084473    \u001b[0m\u001b[35m \u001b[0m│\n",
       "└───────────────────────────┴───────────────────────────┘\n"
      ]
     },
     "metadata": {},
     "output_type": "display_data"
    },
    {
     "data": {
      "text/plain": [
       "[{'test_acc': 0.7661538124084473}]"
      ]
     },
     "execution_count": 15,
     "metadata": {},
     "output_type": "execute_result"
    }
   ],
   "source": [
    "trainer.test(model, test_data_loader)"
   ]
  },
  {
   "cell_type": "code",
   "execution_count": null,
   "metadata": {},
   "outputs": [],
   "source": []
  }
 ],
 "metadata": {
  "kernelspec": {
   "display_name": "Python 3",
   "language": "python",
   "name": "python3"
  },
  "language_info": {
   "codemirror_mode": {
    "name": "ipython",
    "version": 3
   },
   "file_extension": ".py",
   "mimetype": "text/x-python",
   "name": "python",
   "nbconvert_exporter": "python",
   "pygments_lexer": "ipython3",
   "version": "3.10.7"
  }
 },
 "nbformat": 4,
 "nbformat_minor": 2
}
