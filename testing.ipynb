{
 "cells": [
  {
   "cell_type": "code",
   "execution_count": 12,
   "metadata": {},
   "outputs": [
    {
     "name": "stdout",
     "output_type": "stream",
     "text": [
      "-----------------------------\n",
      "-----------------------------\n",
      "{'َ': 0, 'ً': 1, 'ُ': 2, 'ٌ': 3, 'ِ': 4, 'ٍ': 5, 'ْ': 6, 'ّ': 7, 'َّ': 8, 'ًّ': 9, 'ُّ': 10, 'ٌّ': 11, 'ِّ': 12, 'ٍّ': 13, '': 14}\n"
     ]
    }
   ],
   "source": [
    "%load_ext autoreload\n",
    "%autoreload 2\n",
    "import numpy as np\n",
    "import matplotlib.pyplot as plt\n",
    "import pickle\n",
    "from constants import *\n",
    "from train_collections import *\n",
    "# read the pickle file and print the data\n",
    "def read_pickle_file(filename):\n",
    "    with open(filename, 'rb') as f:\n",
    "        data = pickle.load(f)\n",
    "    # print(data)\n",
    "    return data\n",
    "\n",
    "harakat = read_pickle_file('./Delivery/diacritic2id.pickle')\n",
    "print('-----------------------------')\n",
    "read_pickle_file('./Delivery/diacritics.pickle')\n",
    "print('-----------------------------')\n",
    "lettes = read_pickle_file('./Delivery/arabic_letters.pickle')\n",
    "\n",
    "# print(len(lettes))\n",
    "# print(type(lettes))\n",
    "# print(ARABIC_LETTERS)\n",
    "# print(len(ARABIC_LETTERS))\n",
    "print(harakat2id)\n"
   ]
  },
  {
   "cell_type": "code",
   "execution_count": 1,
   "metadata": {},
   "outputs": [
    {
     "name": "stdout",
     "output_type": "stream",
     "text": [
      "cpu\n"
     ]
    }
   ],
   "source": [
    "from letters_dataset import LettersDataset\n",
    "from models.Accio import Accio\n",
    "from torch.utils import data\n",
    "import torch\n",
    "batch_size = 64\n",
    "device = torch.device(\"cpu\")\n",
    "model = Accio(input_size=41,output_size=15,device=device)\n",
    "model.load_state_dict(torch.load('./models/Accio_4.pth'))\n",
    "print(device)"
   ]
  },
  {
   "cell_type": "code",
   "execution_count": 2,
   "metadata": {},
   "outputs": [
    {
     "name": "stdout",
     "output_type": "stream",
     "text": [
      "w = 1174\n",
      "{'ا': 0, 'ب': 1, 'ت': 2, 'ث': 3, 'ج': 4, 'ح': 5, 'خ': 6, 'د': 7, 'ذ': 8, 'ر': 9, 'ز': 10, 'س': 11, 'ش': 12, 'ص': 13, 'ض': 14, 'ط': 15, 'ظ': 16, 'ع': 17, 'غ': 18, 'ف': 19, 'ق': 20, 'ك': 21, 'ل': 22, 'م': 23, 'ن': 24, 'ه': 25, 'و': 26, 'ي': 27, 'ى': 28, 'ة': 29, 'آ': 30, 'أ': 31, 'إ': 32, 'ء': 33, 'ؤ': 34, 'ئ': 35, ' ': 36, '،': 37, '-': 38, '<pad>': 39, '<unk>': 40}\n"
     ]
    }
   ],
   "source": [
    "test_dataset = LettersDataset('clean_out/X_test.csv', 'clean_out/Y_test.csv',val_mode=True, device=device)  \n",
    "\n",
    "test_loader = data.DataLoader(test_dataset,  batch_size=batch_size)\n",
    "print(test_dataset.char_encoder.word2idx)"
   ]
  },
  {
   "cell_type": "code",
   "execution_count": 3,
   "metadata": {},
   "outputs": [
    {
     "name": "stdout",
     "output_type": "stream",
     "text": [
      "Accuracy: 94.93%\n"
     ]
    }
   ],
   "source": [
    "# evaluaate accuracy on validation set\n",
    "model.eval()\n",
    "letter_haraka = []\n",
    "with torch.no_grad():\n",
    "    for (X_batch,y_batch) in test_loader:\n",
    "        # y_pred = model(X_batch)['diacritics']\n",
    "        y_pred = model(X_batch)\n",
    "        # we transpose because the loss function expects the second dimension to be the classes\n",
    "        # y_pred is now (batch_size, n_classes, seq_len)\n",
    "        y_pred = y_pred.transpose(1, 2)\n",
    "        _, predicted = torch.max(y_pred.data, 1)\n",
    "        # Count only non-padding characters\n",
    "        for x,y in zip(X_batch,predicted):\n",
    "            for xx,yy in zip(x,y):\n",
    "                # we reached the end of the sentence\n",
    "                # print(xx.item())\n",
    "                # print(val_dataset.char_encoder.get_pad_id())\n",
    "                # print(val_dataset.char_encoder.get_id_by_token(UNK_TOKEN))\n",
    "                if xx.item() == test_dataset.char_encoder.get_pad_id():\n",
    "                    break\n",
    "                ll = test_dataset.char_encoder.is_arabic_letter(xx.item())\n",
    "                if ll:\n",
    "                    letter_haraka.append([ll,yy.item()])\n",
    "\n",
    "# save ID,Label pairs in a csv file\n",
    "import pandas as pd\n",
    "df = pd.DataFrame(letter_haraka, columns=['letter','label'])\n",
    "df.to_csv('./results/letter_haraka2.csv', index=True, index_label='ID')\n",
    "\n",
    "gold_test = pd.read_csv('clean_out/test_gold.csv',index_col=0)\n",
    "sys_test = pd.read_csv('results/letter_haraka2.csv',index_col=0)\n",
    "# Accuracy per letter\n",
    "# print(gold_val.head())\n",
    "# print(sys_val.head())   \n",
    "# print(gold_val.iloc[0]['label'])\n",
    "\n",
    "correct = 0\n",
    "total = len(gold_test)\n",
    "for i in range(total):\n",
    "    # print(gold_val[i][0], sys_val[i][0])\n",
    "    correct +=( gold_test.iloc[i]['label'] == sys_test.iloc[i]['label'])\n",
    "    \n",
    "print(\"Accuracy: %.2f%%\" % (100.0 * correct / total))"
   ]
  },
  {
   "cell_type": "code",
   "execution_count": null,
   "metadata": {},
   "outputs": [],
   "source": []
  }
 ],
 "metadata": {
  "kernelspec": {
   "display_name": "base",
   "language": "python",
   "name": "python3"
  },
  "language_info": {
   "codemirror_mode": {
    "name": "ipython",
    "version": 3
   },
   "file_extension": ".py",
   "mimetype": "text/x-python",
   "name": "python",
   "nbconvert_exporter": "python",
   "pygments_lexer": "ipython3",
   "version": "3.10.7"
  }
 },
 "nbformat": 4,
 "nbformat_minor": 2
}
